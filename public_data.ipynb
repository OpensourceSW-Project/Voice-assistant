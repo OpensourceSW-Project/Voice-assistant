{
 "cells": [
  {
   "cell_type": "markdown",
   "metadata": {},
   "source": [
    "## 공공데이터 전처리"
   ]
  },
  {
   "cell_type": "code",
   "execution_count": null,
   "metadata": {},
   "outputs": [],
   "source": [
    "# 라이브러리 호출\n",
    "import pandas as pd"
   ]
  },
  {
   "cell_type": "code",
   "execution_count": null,
   "metadata": {},
   "outputs": [
    {
     "data": {
      "text/html": [
       "<div>\n",
       "<style scoped>\n",
       "    .dataframe tbody tr th:only-of-type {\n",
       "        vertical-align: middle;\n",
       "    }\n",
       "\n",
       "    .dataframe tbody tr th {\n",
       "        vertical-align: top;\n",
       "    }\n",
       "\n",
       "    .dataframe thead th {\n",
       "        text-align: right;\n",
       "    }\n",
       "</style>\n",
       "<table border=\"1\" class=\"dataframe\">\n",
       "  <thead>\n",
       "    <tr style=\"text-align: right;\">\n",
       "      <th></th>\n",
       "      <th>업체명</th>\n",
       "      <th>주소</th>\n",
       "      <th>전화번호</th>\n",
       "    </tr>\n",
       "  </thead>\n",
       "  <tbody>\n",
       "    <tr>\n",
       "      <th>0</th>\n",
       "      <td>럭키호텔</td>\n",
       "      <td>대전광역시 중구 당디로 112 럭키호텔 (유천동)</td>\n",
       "      <td>042-583-9481</td>\n",
       "    </tr>\n",
       "    <tr>\n",
       "      <th>1</th>\n",
       "      <td>토요코인 대전정부청사앞</td>\n",
       "      <td>대전광역시 서구 둔산중로134번길 13 (둔산동)</td>\n",
       "      <td>042-545-1045</td>\n",
       "    </tr>\n",
       "    <tr>\n",
       "      <th>2</th>\n",
       "      <td>호텔 스탕달</td>\n",
       "      <td>대전광역시 유성구 온천북로14, 3층~13층</td>\n",
       "      <td>042-822-1345</td>\n",
       "    </tr>\n",
       "    <tr>\n",
       "      <th>3</th>\n",
       "      <td>레지던스호텔힐링</td>\n",
       "      <td>대전광역시 서구 둔산로51번길 76, 2층~12층 (둔산동)</td>\n",
       "      <td>042-485-0161</td>\n",
       "    </tr>\n",
       "    <tr>\n",
       "      <th>4</th>\n",
       "      <td>호텔그레이톤둔산</td>\n",
       "      <td>대전광역시 서구 둔산중로 70, 3층~15층 (둔산동)</td>\n",
       "      <td>042-483-3100</td>\n",
       "    </tr>\n",
       "  </tbody>\n",
       "</table>\n",
       "</div>"
      ],
      "text/plain": [
       "            업체명                                 주소          전화번호\n",
       "0          럭키호텔        대전광역시 중구 당디로 112 럭키호텔 (유천동)  042-583-9481\n",
       "1  토요코인 대전정부청사앞        대전광역시 서구 둔산중로134번길 13 (둔산동)  042-545-1045\n",
       "2        호텔 스탕달          대전광역시 유성구 온천북로14, 3층~13층   042-822-1345\n",
       "3      레지던스호텔힐링  대전광역시 서구 둔산로51번길 76, 2층~12층 (둔산동)  042-485-0161\n",
       "4      호텔그레이톤둔산    대전광역시 서구 둔산중로 70, 3층~15층 (둔산동)   042-483-3100"
      ]
     },
     "execution_count": 4,
     "metadata": {},
     "output_type": "execute_result"
    }
   ],
   "source": [
    "import pandas as pd\n",
    "\n",
    "## 대전광역시_숙박업소##\n",
    "df1 = pd.read_csv('./data/대전광역시_숙박업소_20201201.csv', encoding='cp949')\n",
    "df1 = df1[['업체명', '주소', '전화번호']]\n",
    "\n",
    "df1.head()"
   ]
  },
  {
   "cell_type": "code",
   "execution_count": null,
   "metadata": {},
   "outputs": [
    {
     "name": "stdout",
     "output_type": "stream",
     "text": [
      "<class 'pandas.core.frame.DataFrame'>\n",
      "RangeIndex: 133 entries, 0 to 132\n",
      "Data columns (total 3 columns):\n",
      " #   Column  Non-Null Count  Dtype \n",
      "---  ------  --------------  ----- \n",
      " 0   업체명     133 non-null    object\n",
      " 1   주소      133 non-null    object\n",
      " 2   전화번호    133 non-null    object\n",
      "dtypes: object(3)\n",
      "memory usage: 3.2+ KB\n"
     ]
    }
   ],
   "source": [
    "# 데이터 개수 확인\n",
    "df1.info()"
   ]
  },
  {
   "cell_type": "code",
   "execution_count": null,
   "metadata": {},
   "outputs": [
    {
     "data": {
      "text/html": [
       "<div>\n",
       "<style scoped>\n",
       "    .dataframe tbody tr th:only-of-type {\n",
       "        vertical-align: middle;\n",
       "    }\n",
       "\n",
       "    .dataframe tbody tr th {\n",
       "        vertical-align: top;\n",
       "    }\n",
       "\n",
       "    .dataframe thead th {\n",
       "        text-align: right;\n",
       "    }\n",
       "</style>\n",
       "<table border=\"1\" class=\"dataframe\">\n",
       "  <thead>\n",
       "    <tr style=\"text-align: right;\">\n",
       "      <th></th>\n",
       "      <th>업체명</th>\n",
       "      <th>주소</th>\n",
       "      <th>전화번호</th>\n",
       "    </tr>\n",
       "  </thead>\n",
       "  <tbody>\n",
       "    <tr>\n",
       "      <th>0</th>\n",
       "      <td>별모텔</td>\n",
       "      <td>대전광역시 대덕구 동서대로1748번길 11 (비래동)</td>\n",
       "      <td>042-672-0789</td>\n",
       "    </tr>\n",
       "    <tr>\n",
       "      <th>1</th>\n",
       "      <td>장수여관</td>\n",
       "      <td>대전광역시 대덕구 우암로 441 (비래동)</td>\n",
       "      <td>042-622-8884</td>\n",
       "    </tr>\n",
       "    <tr>\n",
       "      <th>2</th>\n",
       "      <td>금호여관</td>\n",
       "      <td>대전광역시 대덕구 대전로 1139 (오정동)</td>\n",
       "      <td>042-632-9255</td>\n",
       "    </tr>\n",
       "    <tr>\n",
       "      <th>3</th>\n",
       "      <td>큐모텔</td>\n",
       "      <td>대전광역시 대덕구 오정로76번길 77 (오정동)</td>\n",
       "      <td>042-622-7799</td>\n",
       "    </tr>\n",
       "    <tr>\n",
       "      <th>4</th>\n",
       "      <td>금강장여관</td>\n",
       "      <td>대전광역시 대덕구 신탄진로810번길 15 (신탄진동)</td>\n",
       "      <td>042-932-6262</td>\n",
       "    </tr>\n",
       "  </tbody>\n",
       "</table>\n",
       "</div>"
      ],
      "text/plain": [
       "     업체명                             주소          전화번호\n",
       "0    별모텔  대전광역시 대덕구 동서대로1748번길 11 (비래동)  042-672-0789\n",
       "1   장수여관        대전광역시 대덕구 우암로 441 (비래동)  042-622-8884\n",
       "2   금호여관       대전광역시 대덕구 대전로 1139 (오정동)  042-632-9255\n",
       "3    큐모텔     대전광역시 대덕구 오정로76번길 77 (오정동)  042-622-7799\n",
       "4  금강장여관  대전광역시 대덕구 신탄진로810번길 15 (신탄진동)  042-932-6262"
      ]
     },
     "execution_count": 5,
     "metadata": {},
     "output_type": "execute_result"
    }
   ],
   "source": [
    "## 대전광역시 대덕구 숙박정보##\n",
    "df2 = pd.read_csv('./data/대전광역시 대덕구_숙박정보_20240813.csv', encoding='cp949')\n",
    "df2 = df2.rename(columns={\n",
    "    '업소명': '업체명',\n",
    "    '영업소 주소(도로명)': '주소',\n",
    "    '소재지전화': '전화번호'\n",
    "})\n",
    "\n",
    "df2 = df2[['업체명', '주소','전화번호']]\n",
    "df2.head()"
   ]
  },
  {
   "cell_type": "code",
   "execution_count": 13,
   "metadata": {},
   "outputs": [
    {
     "name": "stdout",
     "output_type": "stream",
     "text": [
      "<class 'pandas.core.frame.DataFrame'>\n",
      "RangeIndex: 83 entries, 0 to 82\n",
      "Data columns (total 3 columns):\n",
      " #   Column  Non-Null Count  Dtype \n",
      "---  ------  --------------  ----- \n",
      " 0   업체명     83 non-null     object\n",
      " 1   주소      83 non-null     object\n",
      " 2   전화번호    83 non-null     object\n",
      "dtypes: object(3)\n",
      "memory usage: 2.1+ KB\n"
     ]
    }
   ],
   "source": [
    "df2.info()"
   ]
  },
  {
   "cell_type": "code",
   "execution_count": 6,
   "metadata": {},
   "outputs": [
    {
     "data": {
      "text/html": [
       "<div>\n",
       "<style scoped>\n",
       "    .dataframe tbody tr th:only-of-type {\n",
       "        vertical-align: middle;\n",
       "    }\n",
       "\n",
       "    .dataframe tbody tr th {\n",
       "        vertical-align: top;\n",
       "    }\n",
       "\n",
       "    .dataframe thead th {\n",
       "        text-align: right;\n",
       "    }\n",
       "</style>\n",
       "<table border=\"1\" class=\"dataframe\">\n",
       "  <thead>\n",
       "    <tr style=\"text-align: right;\">\n",
       "      <th></th>\n",
       "      <th>업체명</th>\n",
       "      <th>주소</th>\n",
       "      <th>전화번호</th>\n",
       "    </tr>\n",
       "  </thead>\n",
       "  <tbody>\n",
       "    <tr>\n",
       "      <th>0</th>\n",
       "      <td>무명여관</td>\n",
       "      <td>대전광역시 서구 계룡로620번길 7 (용문동)</td>\n",
       "      <td>042-523-9401</td>\n",
       "    </tr>\n",
       "    <tr>\n",
       "      <th>1</th>\n",
       "      <td>신온장여관</td>\n",
       "      <td>대전광역시 서구 도산로 216 (변동)</td>\n",
       "      <td>042-523-1388</td>\n",
       "    </tr>\n",
       "    <tr>\n",
       "      <th>2</th>\n",
       "      <td>청수파크</td>\n",
       "      <td>대전광역시 서구 계룡로636번길 14-27 (용문동)</td>\n",
       "      <td>042-535-5022</td>\n",
       "    </tr>\n",
       "    <tr>\n",
       "      <th>3</th>\n",
       "      <td>백운장여관</td>\n",
       "      <td>대전광역시 서구 가장로 128 (가장동)</td>\n",
       "      <td>042-533-4321</td>\n",
       "    </tr>\n",
       "    <tr>\n",
       "      <th>4</th>\n",
       "      <td>용문파크</td>\n",
       "      <td>대전광역시 서구 도산로 378 (용문동)</td>\n",
       "      <td>042-536-5222</td>\n",
       "    </tr>\n",
       "  </tbody>\n",
       "</table>\n",
       "</div>"
      ],
      "text/plain": [
       "     업체명                             주소          전화번호\n",
       "0   무명여관      대전광역시 서구 계룡로620번길 7 (용문동)  042-523-9401\n",
       "1  신온장여관          대전광역시 서구 도산로 216 (변동)  042-523-1388\n",
       "2   청수파크  대전광역시 서구 계룡로636번길 14-27 (용문동)  042-535-5022\n",
       "3  백운장여관         대전광역시 서구 가장로 128 (가장동)  042-533-4321\n",
       "4   용문파크         대전광역시 서구 도산로 378 (용문동)  042-536-5222"
      ]
     },
     "execution_count": 6,
     "metadata": {},
     "output_type": "execute_result"
    }
   ],
   "source": [
    "## 대전광역시 서구 숙박업##\n",
    "df3 = pd.read_csv('./data/대전광역시 서구_숙박업 현황_20231205.csv', encoding='cp949')\n",
    "df3 = df3.rename(columns={\n",
    "    '업소명': '업체명',\n",
    "    '영업소 주소(도로명)': '주소',\n",
    "    '소재지전화': '전화번호'\n",
    "})\n",
    "\n",
    "df3 = df3[['업체명', '주소','전화번호']]\n",
    "df3.head()"
   ]
  },
  {
   "cell_type": "code",
   "execution_count": 11,
   "metadata": {},
   "outputs": [
    {
     "name": "stdout",
     "output_type": "stream",
     "text": [
      "<class 'pandas.core.frame.DataFrame'>\n",
      "RangeIndex: 70 entries, 0 to 69\n",
      "Data columns (total 3 columns):\n",
      " #   Column  Non-Null Count  Dtype \n",
      "---  ------  --------------  ----- \n",
      " 0   업체명     70 non-null     object\n",
      " 1   주소      70 non-null     object\n",
      " 2   전화번호    64 non-null     object\n",
      "dtypes: object(3)\n",
      "memory usage: 1.8+ KB\n"
     ]
    }
   ],
   "source": [
    "df3.info()"
   ]
  },
  {
   "cell_type": "code",
   "execution_count": 15,
   "metadata": {},
   "outputs": [
    {
     "name": "stdout",
     "output_type": "stream",
     "text": [
      "<class 'pandas.core.frame.DataFrame'>\n",
      "Index: 64 entries, 0 to 66\n",
      "Data columns (total 3 columns):\n",
      " #   Column  Non-Null Count  Dtype \n",
      "---  ------  --------------  ----- \n",
      " 0   업체명     64 non-null     object\n",
      " 1   주소      64 non-null     object\n",
      " 2   전화번호    64 non-null     object\n",
      "dtypes: object(3)\n",
      "memory usage: 2.0+ KB\n"
     ]
    }
   ],
   "source": [
    "# 전화번호 열에서 결측값이 있는 행을 제거\n",
    "df3 = df3.dropna(subset=['전화번호'])\n",
    "df3.info()"
   ]
  },
  {
   "cell_type": "code",
   "execution_count": 7,
   "metadata": {},
   "outputs": [
    {
     "data": {
      "text/html": [
       "<div>\n",
       "<style scoped>\n",
       "    .dataframe tbody tr th:only-of-type {\n",
       "        vertical-align: middle;\n",
       "    }\n",
       "\n",
       "    .dataframe tbody tr th {\n",
       "        vertical-align: top;\n",
       "    }\n",
       "\n",
       "    .dataframe thead th {\n",
       "        text-align: right;\n",
       "    }\n",
       "</style>\n",
       "<table border=\"1\" class=\"dataframe\">\n",
       "  <thead>\n",
       "    <tr style=\"text-align: right;\">\n",
       "      <th></th>\n",
       "      <th>업체명</th>\n",
       "      <th>주소</th>\n",
       "      <th>전화번호</th>\n",
       "    </tr>\n",
       "  </thead>\n",
       "  <tbody>\n",
       "    <tr>\n",
       "      <th>0</th>\n",
       "      <td>첼로파크여관</td>\n",
       "      <td>대전광역시 중구 목척7길 30 (은행동)</td>\n",
       "      <td>042-226-6226</td>\n",
       "    </tr>\n",
       "    <tr>\n",
       "      <th>1</th>\n",
       "      <td>한성여인숙</td>\n",
       "      <td>대전광역시 중구 동서대로1327번길 1 (용두동)</td>\n",
       "      <td>042-257-7562</td>\n",
       "    </tr>\n",
       "    <tr>\n",
       "      <th>2</th>\n",
       "      <td>화성모텔</td>\n",
       "      <td>대전광역시 중구 충무로 160-1 (문창동)</td>\n",
       "      <td>042-271-7198</td>\n",
       "    </tr>\n",
       "    <tr>\n",
       "      <th>3</th>\n",
       "      <td>남도 여인숙</td>\n",
       "      <td>대전광역시 중구 오류로 19-11 (오류동)</td>\n",
       "      <td>042-523-8923</td>\n",
       "    </tr>\n",
       "    <tr>\n",
       "      <th>4</th>\n",
       "      <td>영일장</td>\n",
       "      <td>대전광역시 중구 목척1길 11 (은행동)</td>\n",
       "      <td>042-252-3232</td>\n",
       "    </tr>\n",
       "  </tbody>\n",
       "</table>\n",
       "</div>"
      ],
      "text/plain": [
       "      업체명                           주소          전화번호\n",
       "0  첼로파크여관       대전광역시 중구 목척7길 30 (은행동)  042-226-6226\n",
       "1   한성여인숙  대전광역시 중구 동서대로1327번길 1 (용두동)  042-257-7562\n",
       "2    화성모텔     대전광역시 중구 충무로 160-1 (문창동)  042-271-7198\n",
       "3  남도 여인숙     대전광역시 중구 오류로 19-11 (오류동)  042-523-8923\n",
       "4     영일장       대전광역시 중구 목척1길 11 (은행동)  042-252-3232"
      ]
     },
     "execution_count": 7,
     "metadata": {},
     "output_type": "execute_result"
    }
   ],
   "source": [
    "## 대전광역시 중구 숙박업소##\n",
    "df4 = pd.read_csv('./data/대전광역시 중구 숙박업소 정보_20240705.csv', encoding='cp949')\n",
    "df4 = df4.rename(columns={\n",
    "    '업소명': '업체명',\n",
    "    '영업소 주소(도로명)': '주소',\n",
    "    '소재지전화': '전화번호'\n",
    "})\n",
    "\n",
    "df4 = df4[['업체명', '주소','전화번호']]\n",
    "df4.head()"
   ]
  },
  {
   "cell_type": "code",
   "execution_count": 10,
   "metadata": {},
   "outputs": [
    {
     "name": "stdout",
     "output_type": "stream",
     "text": [
      "<class 'pandas.core.frame.DataFrame'>\n",
      "RangeIndex: 162 entries, 0 to 161\n",
      "Data columns (total 3 columns):\n",
      " #   Column  Non-Null Count  Dtype \n",
      "---  ------  --------------  ----- \n",
      " 0   업체명     162 non-null    object\n",
      " 1   주소      162 non-null    object\n",
      " 2   전화번호    141 non-null    object\n",
      "dtypes: object(3)\n",
      "memory usage: 3.9+ KB\n"
     ]
    }
   ],
   "source": [
    "df4.info()"
   ]
  },
  {
   "cell_type": "code",
   "execution_count": 16,
   "metadata": {},
   "outputs": [
    {
     "name": "stdout",
     "output_type": "stream",
     "text": [
      "<class 'pandas.core.frame.DataFrame'>\n",
      "Index: 141 entries, 0 to 161\n",
      "Data columns (total 3 columns):\n",
      " #   Column  Non-Null Count  Dtype \n",
      "---  ------  --------------  ----- \n",
      " 0   업체명     141 non-null    object\n",
      " 1   주소      141 non-null    object\n",
      " 2   전화번호    141 non-null    object\n",
      "dtypes: object(3)\n",
      "memory usage: 4.4+ KB\n"
     ]
    }
   ],
   "source": [
    "df4 = df4.dropna(subset=['전화번호'])\n",
    "df4.info()"
   ]
  },
  {
   "cell_type": "code",
   "execution_count": 19,
   "metadata": {},
   "outputs": [],
   "source": [
    "# 데이터프레임 하나로 합치기\n",
    "df_combined = pd.concat([df1, df2, df3, df4], ignore_index=True)\n",
    "df_combined.head()\n",
    "\n",
    "df_combined.to_csv('./preprocessing_data/combined_public_data.csv', index=False, encoding='cp949')"
   ]
  },
  {
   "cell_type": "code",
   "execution_count": 18,
   "metadata": {},
   "outputs": [
    {
     "name": "stdout",
     "output_type": "stream",
     "text": [
      "<class 'pandas.core.frame.DataFrame'>\n",
      "RangeIndex: 421 entries, 0 to 420\n",
      "Data columns (total 3 columns):\n",
      " #   Column  Non-Null Count  Dtype \n",
      "---  ------  --------------  ----- \n",
      " 0   업체명     421 non-null    object\n",
      " 1   주소      421 non-null    object\n",
      " 2   전화번호    421 non-null    object\n",
      "dtypes: object(3)\n",
      "memory usage: 10.0+ KB\n"
     ]
    }
   ],
   "source": [
    "df_combined.info()"
   ]
  }
 ],
 "metadata": {
  "kernelspec": {
   "display_name": "Python 3",
   "language": "python",
   "name": "python3"
  },
  "language_info": {
   "codemirror_mode": {
    "name": "ipython",
    "version": 3
   },
   "file_extension": ".py",
   "mimetype": "text/x-python",
   "name": "python",
   "nbconvert_exporter": "python",
   "pygments_lexer": "ipython3",
   "version": "3.12.6"
  }
 },
 "nbformat": 4,
 "nbformat_minor": 2
}
