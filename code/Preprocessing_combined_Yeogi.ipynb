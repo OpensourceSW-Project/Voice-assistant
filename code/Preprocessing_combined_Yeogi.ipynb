{
 "cells": [
  {
   "cell_type": "markdown",
   "metadata": {},
   "source": [
    "## 전처리(전체데이터)"
   ]
  },
  {
   "cell_type": "markdown",
   "metadata": {},
   "source": [
    "전처리 항목\n",
    "1. 특수문자제거\n",
    "2. 의미없는 자음, 모음 제거\n",
    "3. 이모티콘 제거\n",
    "4. 맞춤법 고치기"
   ]
  },
  {
   "cell_type": "markdown",
   "metadata": {},
   "source": [
    "## 1. 특수문자제거"
   ]
  },
  {
   "cell_type": "code",
   "execution_count": 3,
   "metadata": {},
   "outputs": [],
   "source": [
    "import pandas as pd"
   ]
  },
  {
   "cell_type": "code",
   "execution_count": null,
   "metadata": {},
   "outputs": [
    {
     "name": "stderr",
     "output_type": "stream",
     "text": [
      "C:\\Users\\yeonj\\AppData\\Local\\Temp\\ipykernel_15740\\793963575.py:1: DtypeWarning: Columns (4) have mixed types. Specify dtype option on import or set low_memory=False.\n",
      "  df = pd.read_csv('./data/combined_yeogi_data.csv', encoding='utf-8')\n"
     ]
    },
    {
     "data": {
      "text/html": [
       "<div>\n",
       "<style scoped>\n",
       "    .dataframe tbody tr th:only-of-type {\n",
       "        vertical-align: middle;\n",
       "    }\n",
       "\n",
       "    .dataframe tbody tr th {\n",
       "        vertical-align: top;\n",
       "    }\n",
       "\n",
       "    .dataframe thead th {\n",
       "        text-align: right;\n",
       "    }\n",
       "</style>\n",
       "<table border=\"1\" class=\"dataframe\">\n",
       "  <thead>\n",
       "    <tr style=\"text-align: right;\">\n",
       "      <th></th>\n",
       "      <th>hotel</th>\n",
       "      <th>star</th>\n",
       "      <th>review</th>\n",
       "      <th>date</th>\n",
       "      <th>price</th>\n",
       "      <th>address</th>\n",
       "      <th>district</th>\n",
       "    </tr>\n",
       "  </thead>\n",
       "  <tbody>\n",
       "    <tr>\n",
       "      <th>0</th>\n",
       "      <td>유성 메이호텔</td>\n",
       "      <td>5</td>\n",
       "      <td>매우매우 만족합니다 깨끗하고 시설도좋고 주변에 먹을것도많고 주차자리도 매우매우 널널...</td>\n",
       "      <td>2024.10.18</td>\n",
       "      <td>60000</td>\n",
       "      <td>대전 유성구 봉명동 551-17</td>\n",
       "      <td>유성구</td>\n",
       "    </tr>\n",
       "    <tr>\n",
       "      <th>1</th>\n",
       "      <td>유성 메이호텔</td>\n",
       "      <td>4</td>\n",
       "      <td>주변에 숙소가 많은데 다른숙소를 주로 이용하다 이번에 처음 이용해보았는데 객실도 너...</td>\n",
       "      <td>2024.10.18</td>\n",
       "      <td>60000</td>\n",
       "      <td>대전 유성구 봉명동 551-17</td>\n",
       "      <td>유성구</td>\n",
       "    </tr>\n",
       "    <tr>\n",
       "      <th>2</th>\n",
       "      <td>유성 메이호텔</td>\n",
       "      <td>5</td>\n",
       "      <td>봉명동 술집에서 술마실때 위치가 너무 좋아요! 항상 찾는곳으로 주차장도 지상도 있고...</td>\n",
       "      <td>2024.10.28</td>\n",
       "      <td>60000</td>\n",
       "      <td>대전 유성구 봉명동 551-17</td>\n",
       "      <td>유성구</td>\n",
       "    </tr>\n",
       "    <tr>\n",
       "      <th>3</th>\n",
       "      <td>유성 메이호텔</td>\n",
       "      <td>5</td>\n",
       "      <td>짐 놓고갔엇는데 프론트 분 이 되게 친절하셨었어요 아아 송주차장이 없지만 그래도 주...</td>\n",
       "      <td>2024.10.29</td>\n",
       "      <td>60000</td>\n",
       "      <td>대전 유성구 봉명동 551-17</td>\n",
       "      <td>유성구</td>\n",
       "    </tr>\n",
       "    <tr>\n",
       "      <th>4</th>\n",
       "      <td>유성 메이호텔</td>\n",
       "      <td>4</td>\n",
       "      <td>🍀할머니 댁같은 느낌🍀\\r\\n📍객실\\r\\n깔끔한데 오래된 느낌은 못 지우겠어요. 전...</td>\n",
       "      <td>2024.11.05</td>\n",
       "      <td>60000</td>\n",
       "      <td>대전 유성구 봉명동 551-17</td>\n",
       "      <td>유성구</td>\n",
       "    </tr>\n",
       "  </tbody>\n",
       "</table>\n",
       "</div>"
      ],
      "text/plain": [
       "     hotel  star                                             review  \\\n",
       "0  유성 메이호텔     5  매우매우 만족합니다 깨끗하고 시설도좋고 주변에 먹을것도많고 주차자리도 매우매우 널널...   \n",
       "1  유성 메이호텔     4  주변에 숙소가 많은데 다른숙소를 주로 이용하다 이번에 처음 이용해보았는데 객실도 너...   \n",
       "2  유성 메이호텔     5  봉명동 술집에서 술마실때 위치가 너무 좋아요! 항상 찾는곳으로 주차장도 지상도 있고...   \n",
       "3  유성 메이호텔     5  짐 놓고갔엇는데 프론트 분 이 되게 친절하셨었어요 아아 송주차장이 없지만 그래도 주...   \n",
       "4  유성 메이호텔     4  🍀할머니 댁같은 느낌🍀\\r\\n📍객실\\r\\n깔끔한데 오래된 느낌은 못 지우겠어요. 전...   \n",
       "\n",
       "         date  price            address district  \n",
       "0  2024.10.18  60000  대전 유성구 봉명동 551-17      유성구  \n",
       "1  2024.10.18  60000  대전 유성구 봉명동 551-17      유성구  \n",
       "2  2024.10.28  60000  대전 유성구 봉명동 551-17      유성구  \n",
       "3  2024.10.29  60000  대전 유성구 봉명동 551-17      유성구  \n",
       "4  2024.11.05  60000  대전 유성구 봉명동 551-17      유성구  "
      ]
     },
     "execution_count": 4,
     "metadata": {},
     "output_type": "execute_result"
    }
   ],
   "source": [
    "df = pd.read_csv('C:/Users/yeonj/OneDrive/바탕 화면/data_crawling/data/combined_yeogi_data.csv', encoding='utf-8')\n",
    "\n",
    "df.head()"
   ]
  },
  {
   "cell_type": "code",
   "execution_count": 5,
   "metadata": {},
   "outputs": [
    {
     "data": {
      "text/plain": [
       "0    매우매우 만족합니다 깨끗하고 시설도좋고 주변에 먹을것도많고 주차자리도 매우매우 널널...\n",
       "1    주변에 숙소가 많은데 다른숙소를 주로 이용하다 이번에 처음 이용해보았는데 객실도 너...\n",
       "2    봉명동 술집에서 술마실때 위치가 너무 좋아요! 항상 찾는곳으로 주차장도 지상도 있고...\n",
       "3    짐 놓고갔엇는데 프론트 분 이 되게 친절하셨었어요 아아 송주차장이 없지만 그래도 주...\n",
       "4    🍀할머니 댁같은 느낌🍀\\r📍객실\\r깔끔한데 오래된 느낌은 못 지우겠어요. 전담을 옆...\n",
       "Name: review, dtype: object"
      ]
     },
     "execution_count": 5,
     "metadata": {},
     "output_type": "execute_result"
    }
   ],
   "source": [
    "df['review'] = df['review'].apply(lambda x: x.replace('\\n',''))\n",
    "df['review'].head()"
   ]
  },
  {
   "cell_type": "code",
   "execution_count": null,
   "metadata": {},
   "outputs": [
    {
     "data": {
      "text/plain": [
       "0    매우매우 만족합니다 깨끗하고 시설도좋고 주변에 먹을것도많고 주차자리도 매우매우 널널...\n",
       "1    주변에 숙소가 많은데 다른숙소를 주로 이용하다 이번에 처음 이용해보았는데 객실도 너...\n",
       "2    봉명동 술집에서 술마실때 위치가 너무 좋아요 항상 찾는곳으로 주차장도 지상도 있고 ...\n",
       "3    짐 놓고갔엇는데 프론트 분 이 되게 친절하셨었어요 아아 송주차장이 없지만 그래도 주...\n",
       "4    할머니 댁같은 느낌객실깔끔한데 오래된 느낌은 못 지우겠어요 전담을 옆방에서 피는지 ...\n",
       "Name: review, dtype: object"
      ]
     },
     "execution_count": 10,
     "metadata": {},
     "output_type": "execute_result"
    }
   ],
   "source": [
    "import re\n",
    "\n",
    "def cleanText(readData):\n",
    "    text = re.sub(r'[-=+,#/\\?:;^$.@*\\\"※~&%ㆍ!』\\\\‘|\\(\\)\\[\\]\\<\\>`\\'…》❤⭐️\\r]', '', readData)\n",
    "    return text\n",
    "\n",
    "df['review'] = df['review'].apply(cleanText)\n",
    "df['review'].head()"
   ]
  },
  {
   "cell_type": "code",
   "execution_count": 11,
   "metadata": {},
   "outputs": [
    {
     "data": {
      "text/plain": [
       "0    매우매우 만족합니다 깨끗하고 시설도좋고 주변에 먹을것도많고 주차자리도 매우매우 널널...\n",
       "1    주변에 숙소가 많은데 다른숙소를 주로 이용하다 이번에 처음 이용해보았는데 객실도 너...\n",
       "2    봉명동 술집에서 술마실때 위치가 너무 좋아요 항상 찾는곳으로 주차장도 지상도 있고 ...\n",
       "3    짐 놓고갔엇는데 프론트 분 이 되게 친절하셨었어요 아아 송주차장이 없지만 그래도 주...\n",
       "4    할머니 댁같은 느낌객실깔끔한데 오래된 느낌은 못 지우겠어요 전담을 옆방에서 피는지 ...\n",
       "Name: review, dtype: object"
      ]
     },
     "execution_count": 11,
     "metadata": {},
     "output_type": "execute_result"
    }
   ],
   "source": [
    "def cleanText2(readData):\n",
    " \n",
    "    text = re.sub('[ㄱㄴㄷㄹㅁㅂㅅㅇㅈㅊㅋㅌㅍㅎㅃㅉㄸㄲㅆㅛㅕㅑㅐㅔㅗㅓㅏㅣㅜㅠㅡ]', '', readData)\n",
    "    return text\n",
    "df['review'] = df['review'].apply(cleanText2)\n",
    "df['review'].head()"
   ]
  },
  {
   "cell_type": "code",
   "execution_count": 12,
   "metadata": {},
   "outputs": [
    {
     "data": {
      "text/plain": [
       "0         매우매우 만족합니다 깨끗하고 시설도좋고 주변에 먹을것도많고 주차자리도 매우매우 널널...\n",
       "1         주변에 숙소가 많은데 다른숙소를 주로 이용하다 이번에 처음 이용해보았는데 객실도 너...\n",
       "2         봉명동 술집에서 술마실때 위치가 너무 좋아요 항상 찾는곳으로 주차장도 지상도 있고 ...\n",
       "3         짐 놓고갔엇는데 프론트 분 이 되게 친절하셨었어요 아아 송주차장이 없지만 그래도 주...\n",
       "4         할머니 댁같은 느낌객실깔끔한데 오래된 느낌은 못 지우겠어요 전담을 옆방에서 피는지 ...\n",
       "                                ...                        \n",
       "187162                               예전에는 안그랬는데 요즘은 모텔이 된듯함\n",
       "187163    시청엳에서도 가깝고 주변 조용하규 음식점 카페 다 많아서 이용하기 좋아요 다른 리뷰...\n",
       "187164    온수 한명이 쓰면 20분동안 안나온다는 걸 체크인할 때 들었습니다 미리 주의사항에 ...\n",
       "187165                                   담배냄새 찌든냄새 최악침대도 별로\n",
       "187166    밥이 맛있다고 리뷰보고 가게 되었는데뭐 특별히 기억에 남을 만한건 아니고그냥  그럭...\n",
       "Name: review, Length: 187167, dtype: object"
      ]
     },
     "execution_count": 12,
     "metadata": {},
     "output_type": "execute_result"
    }
   ],
   "source": [
    "def cleanText3(readData):\n",
    "    \n",
    "    emoji_pattern = re.compile(\"[\"\n",
    "        u\"\\U0001F600-\\U0001F64F\"  # emoticons\n",
    "        u\"\\U0001F300-\\U0001F5FF\"  # symbols & pictographs\n",
    "        u\"\\U0001F680-\\U0001F6FF\"  # transport & map symbols\n",
    "        u\"\\U0001F1E0-\\U0001F1FF\"  # flags (iOS)\n",
    "                           \"]+\", flags=re.UNICODE)\n",
    "\n",
    "    text = emoji_pattern.sub(r'', readData)\n",
    "    return text\n",
    "\n",
    "df['review'] = df['review'].apply(cleanText3)\n",
    "df['review']"
   ]
  },
  {
   "cell_type": "code",
   "execution_count": 13,
   "metadata": {},
   "outputs": [
    {
     "data": {
      "text/html": [
       "<div>\n",
       "<style scoped>\n",
       "    .dataframe tbody tr th:only-of-type {\n",
       "        vertical-align: middle;\n",
       "    }\n",
       "\n",
       "    .dataframe tbody tr th {\n",
       "        vertical-align: top;\n",
       "    }\n",
       "\n",
       "    .dataframe thead th {\n",
       "        text-align: right;\n",
       "    }\n",
       "</style>\n",
       "<table border=\"1\" class=\"dataframe\">\n",
       "  <thead>\n",
       "    <tr style=\"text-align: right;\">\n",
       "      <th></th>\n",
       "      <th>hotel</th>\n",
       "      <th>star</th>\n",
       "      <th>review</th>\n",
       "      <th>date</th>\n",
       "      <th>price</th>\n",
       "      <th>address</th>\n",
       "      <th>district</th>\n",
       "      <th>length</th>\n",
       "    </tr>\n",
       "  </thead>\n",
       "  <tbody>\n",
       "    <tr>\n",
       "      <th>0</th>\n",
       "      <td>유성 메이호텔</td>\n",
       "      <td>5</td>\n",
       "      <td>매우매우 만족합니다 깨끗하고 시설도좋고 주변에 먹을것도많고 주차자리도 매우매우 널널...</td>\n",
       "      <td>2024.10.18</td>\n",
       "      <td>60000</td>\n",
       "      <td>대전 유성구 봉명동 551-17</td>\n",
       "      <td>유성구</td>\n",
       "      <td>250</td>\n",
       "    </tr>\n",
       "    <tr>\n",
       "      <th>1</th>\n",
       "      <td>유성 메이호텔</td>\n",
       "      <td>4</td>\n",
       "      <td>주변에 숙소가 많은데 다른숙소를 주로 이용하다 이번에 처음 이용해보았는데 객실도 너...</td>\n",
       "      <td>2024.10.18</td>\n",
       "      <td>60000</td>\n",
       "      <td>대전 유성구 봉명동 551-17</td>\n",
       "      <td>유성구</td>\n",
       "      <td>262</td>\n",
       "    </tr>\n",
       "    <tr>\n",
       "      <th>2</th>\n",
       "      <td>유성 메이호텔</td>\n",
       "      <td>5</td>\n",
       "      <td>봉명동 술집에서 술마실때 위치가 너무 좋아요 항상 찾는곳으로 주차장도 지상도 있고 ...</td>\n",
       "      <td>2024.10.28</td>\n",
       "      <td>60000</td>\n",
       "      <td>대전 유성구 봉명동 551-17</td>\n",
       "      <td>유성구</td>\n",
       "      <td>255</td>\n",
       "    </tr>\n",
       "    <tr>\n",
       "      <th>3</th>\n",
       "      <td>유성 메이호텔</td>\n",
       "      <td>5</td>\n",
       "      <td>짐 놓고갔엇는데 프론트 분 이 되게 친절하셨었어요 아아 송주차장이 없지만 그래도 주...</td>\n",
       "      <td>2024.10.29</td>\n",
       "      <td>60000</td>\n",
       "      <td>대전 유성구 봉명동 551-17</td>\n",
       "      <td>유성구</td>\n",
       "      <td>192</td>\n",
       "    </tr>\n",
       "    <tr>\n",
       "      <th>4</th>\n",
       "      <td>유성 메이호텔</td>\n",
       "      <td>4</td>\n",
       "      <td>할머니 댁같은 느낌객실깔끔한데 오래된 느낌은 못 지우겠어요 전담을 옆방에서 피는지 ...</td>\n",
       "      <td>2024.11.05</td>\n",
       "      <td>60000</td>\n",
       "      <td>대전 유성구 봉명동 551-17</td>\n",
       "      <td>유성구</td>\n",
       "      <td>259</td>\n",
       "    </tr>\n",
       "  </tbody>\n",
       "</table>\n",
       "</div>"
      ],
      "text/plain": [
       "     hotel  star                                             review  \\\n",
       "0  유성 메이호텔     5  매우매우 만족합니다 깨끗하고 시설도좋고 주변에 먹을것도많고 주차자리도 매우매우 널널...   \n",
       "1  유성 메이호텔     4  주변에 숙소가 많은데 다른숙소를 주로 이용하다 이번에 처음 이용해보았는데 객실도 너...   \n",
       "2  유성 메이호텔     5  봉명동 술집에서 술마실때 위치가 너무 좋아요 항상 찾는곳으로 주차장도 지상도 있고 ...   \n",
       "3  유성 메이호텔     5  짐 놓고갔엇는데 프론트 분 이 되게 친절하셨었어요 아아 송주차장이 없지만 그래도 주...   \n",
       "4  유성 메이호텔     4  할머니 댁같은 느낌객실깔끔한데 오래된 느낌은 못 지우겠어요 전담을 옆방에서 피는지 ...   \n",
       "\n",
       "         date  price            address district  length  \n",
       "0  2024.10.18  60000  대전 유성구 봉명동 551-17      유성구     250  \n",
       "1  2024.10.18  60000  대전 유성구 봉명동 551-17      유성구     262  \n",
       "2  2024.10.28  60000  대전 유성구 봉명동 551-17      유성구     255  \n",
       "3  2024.10.29  60000  대전 유성구 봉명동 551-17      유성구     192  \n",
       "4  2024.11.05  60000  대전 유성구 봉명동 551-17      유성구     259  "
      ]
     },
     "execution_count": 13,
     "metadata": {},
     "output_type": "execute_result"
    }
   ],
   "source": [
    "df['length'] = df['review'].apply(len)\n",
    "df.head()"
   ]
  },
  {
   "cell_type": "markdown",
   "metadata": {},
   "source": [
    "## 4. 맞춤법 고치기\n",
    "\n",
    "네이버 맞춤법 검사기를 이용하기 때문에 글자수가 500이 넘어가는건 버린다."
   ]
  },
  {
   "cell_type": "code",
   "execution_count": 14,
   "metadata": {},
   "outputs": [
    {
     "data": {
      "text/plain": [
       "(813, 8)"
      ]
     },
     "execution_count": 14,
     "metadata": {},
     "output_type": "execute_result"
    }
   ],
   "source": [
    "df[df['length'] > 500].shape"
   ]
  },
  {
   "cell_type": "code",
   "execution_count": 15,
   "metadata": {},
   "outputs": [
    {
     "data": {
      "text/plain": [
       "(186354, 8)"
      ]
     },
     "execution_count": 15,
     "metadata": {},
     "output_type": "execute_result"
    }
   ],
   "source": [
    "df = df[df['length'] <= 500]\n",
    "df.shape"
   ]
  },
  {
   "cell_type": "markdown",
   "metadata": {},
   "source": [
    "맞춤법 검사기 링크 : https://github.com/ssut/py-hanspell\n",
    "\n",
    "1. git.clone 받기\n",
    "2. cmd창에 python setup.py install\n",
    "3. cmd창에 pip install py-hanspell"
   ]
  },
  {
   "cell_type": "code",
   "execution_count": 18,
   "metadata": {},
   "outputs": [
    {
     "name": "stdout",
     "output_type": "stream",
     "text": [
      "Collecting setuptools\n",
      "  Using cached setuptools-75.5.0-py3-none-any.whl.metadata (6.8 kB)\n",
      "Using cached setuptools-75.5.0-py3-none-any.whl (1.2 MB)\n",
      "Installing collected packages: setuptools\n",
      "Successfully installed setuptools-75.5.0\n"
     ]
    },
    {
     "name": "stderr",
     "output_type": "stream",
     "text": [
      "\n",
      "[notice] A new release of pip is available: 24.2 -> 24.3.1\n",
      "[notice] To update, run: python.exe -m pip install --upgrade pip\n"
     ]
    }
   ],
   "source": [
    "!pip install setuptools"
   ]
  },
  {
   "cell_type": "code",
   "execution_count": 16,
   "metadata": {},
   "outputs": [],
   "source": [
    "from hanspell import spell_checker\n",
    "\n",
    "def spell_check(review):\n",
    "    try:\n",
    "        result = spell_checker.check(review)\n",
    "        print(result)  # 응답 데이터를 출력해서 확인\n",
    "        if 'result' in result:\n",
    "            return result.checked\n",
    "        else:\n",
    "            return review\n",
    "    except Exception as e:\n",
    "        return review"
   ]
  },
  {
   "cell_type": "code",
   "execution_count": 17,
   "metadata": {},
   "outputs": [],
   "source": [
    "df['review']=df['review'].astype('str')"
   ]
  },
  {
   "cell_type": "code",
   "execution_count": 18,
   "metadata": {},
   "outputs": [],
   "source": [
    "df['review_spell_check'] = df['review'].apply(spell_check)"
   ]
  },
  {
   "cell_type": "code",
   "execution_count": 21,
   "metadata": {},
   "outputs": [
    {
     "data": {
      "text/html": [
       "<div>\n",
       "<style scoped>\n",
       "    .dataframe tbody tr th:only-of-type {\n",
       "        vertical-align: middle;\n",
       "    }\n",
       "\n",
       "    .dataframe tbody tr th {\n",
       "        vertical-align: top;\n",
       "    }\n",
       "\n",
       "    .dataframe thead th {\n",
       "        text-align: right;\n",
       "    }\n",
       "</style>\n",
       "<table border=\"1\" class=\"dataframe\">\n",
       "  <thead>\n",
       "    <tr style=\"text-align: right;\">\n",
       "      <th></th>\n",
       "      <th>hotel</th>\n",
       "      <th>star</th>\n",
       "      <th>review</th>\n",
       "      <th>date</th>\n",
       "      <th>price</th>\n",
       "      <th>address</th>\n",
       "      <th>district</th>\n",
       "      <th>length</th>\n",
       "      <th>review_spell_check</th>\n",
       "    </tr>\n",
       "  </thead>\n",
       "  <tbody>\n",
       "    <tr>\n",
       "      <th>0</th>\n",
       "      <td>유성 메이호텔</td>\n",
       "      <td>5</td>\n",
       "      <td>매우매우 만족합니다 깨끗하고 시설도좋고 주변에 먹을것도많고 주차자리도 매우매우 널널...</td>\n",
       "      <td>2024.10.18</td>\n",
       "      <td>60000</td>\n",
       "      <td>대전 유성구 봉명동 551-17</td>\n",
       "      <td>유성구</td>\n",
       "      <td>250</td>\n",
       "      <td>매우매우 만족합니다 깨끗하고 시설도좋고 주변에 먹을것도많고 주차자리도 매우매우 널널...</td>\n",
       "    </tr>\n",
       "    <tr>\n",
       "      <th>1</th>\n",
       "      <td>유성 메이호텔</td>\n",
       "      <td>4</td>\n",
       "      <td>주변에 숙소가 많은데 다른숙소를 주로 이용하다 이번에 처음 이용해보았는데 객실도 너...</td>\n",
       "      <td>2024.10.18</td>\n",
       "      <td>60000</td>\n",
       "      <td>대전 유성구 봉명동 551-17</td>\n",
       "      <td>유성구</td>\n",
       "      <td>262</td>\n",
       "      <td>주변에 숙소가 많은데 다른숙소를 주로 이용하다 이번에 처음 이용해보았는데 객실도 너...</td>\n",
       "    </tr>\n",
       "    <tr>\n",
       "      <th>2</th>\n",
       "      <td>유성 메이호텔</td>\n",
       "      <td>5</td>\n",
       "      <td>봉명동 술집에서 술마실때 위치가 너무 좋아요 항상 찾는곳으로 주차장도 지상도 있고 ...</td>\n",
       "      <td>2024.10.28</td>\n",
       "      <td>60000</td>\n",
       "      <td>대전 유성구 봉명동 551-17</td>\n",
       "      <td>유성구</td>\n",
       "      <td>255</td>\n",
       "      <td>봉명동 술집에서 술마실때 위치가 너무 좋아요 항상 찾는곳으로 주차장도 지상도 있고 ...</td>\n",
       "    </tr>\n",
       "    <tr>\n",
       "      <th>3</th>\n",
       "      <td>유성 메이호텔</td>\n",
       "      <td>5</td>\n",
       "      <td>짐 놓고갔엇는데 프론트 분 이 되게 친절하셨었어요 아아 송주차장이 없지만 그래도 주...</td>\n",
       "      <td>2024.10.29</td>\n",
       "      <td>60000</td>\n",
       "      <td>대전 유성구 봉명동 551-17</td>\n",
       "      <td>유성구</td>\n",
       "      <td>192</td>\n",
       "      <td>짐 놓고갔엇는데 프론트 분 이 되게 친절하셨었어요 아아 송주차장이 없지만 그래도 주...</td>\n",
       "    </tr>\n",
       "    <tr>\n",
       "      <th>4</th>\n",
       "      <td>유성 메이호텔</td>\n",
       "      <td>4</td>\n",
       "      <td>할머니 댁같은 느낌객실깔끔한데 오래된 느낌은 못 지우겠어요 전담을 옆방에서 피는지 ...</td>\n",
       "      <td>2024.11.05</td>\n",
       "      <td>60000</td>\n",
       "      <td>대전 유성구 봉명동 551-17</td>\n",
       "      <td>유성구</td>\n",
       "      <td>259</td>\n",
       "      <td>할머니 댁같은 느낌객실깔끔한데 오래된 느낌은 못 지우겠어요 전담을 옆방에서 피는지 ...</td>\n",
       "    </tr>\n",
       "  </tbody>\n",
       "</table>\n",
       "</div>"
      ],
      "text/plain": [
       "     hotel  star                                             review  \\\n",
       "0  유성 메이호텔     5  매우매우 만족합니다 깨끗하고 시설도좋고 주변에 먹을것도많고 주차자리도 매우매우 널널...   \n",
       "1  유성 메이호텔     4  주변에 숙소가 많은데 다른숙소를 주로 이용하다 이번에 처음 이용해보았는데 객실도 너...   \n",
       "2  유성 메이호텔     5  봉명동 술집에서 술마실때 위치가 너무 좋아요 항상 찾는곳으로 주차장도 지상도 있고 ...   \n",
       "3  유성 메이호텔     5  짐 놓고갔엇는데 프론트 분 이 되게 친절하셨었어요 아아 송주차장이 없지만 그래도 주...   \n",
       "4  유성 메이호텔     4  할머니 댁같은 느낌객실깔끔한데 오래된 느낌은 못 지우겠어요 전담을 옆방에서 피는지 ...   \n",
       "\n",
       "         date  price            address district  length  \\\n",
       "0  2024.10.18  60000  대전 유성구 봉명동 551-17      유성구     250   \n",
       "1  2024.10.18  60000  대전 유성구 봉명동 551-17      유성구     262   \n",
       "2  2024.10.28  60000  대전 유성구 봉명동 551-17      유성구     255   \n",
       "3  2024.10.29  60000  대전 유성구 봉명동 551-17      유성구     192   \n",
       "4  2024.11.05  60000  대전 유성구 봉명동 551-17      유성구     259   \n",
       "\n",
       "                                  review_spell_check  \n",
       "0  매우매우 만족합니다 깨끗하고 시설도좋고 주변에 먹을것도많고 주차자리도 매우매우 널널...  \n",
       "1  주변에 숙소가 많은데 다른숙소를 주로 이용하다 이번에 처음 이용해보았는데 객실도 너...  \n",
       "2  봉명동 술집에서 술마실때 위치가 너무 좋아요 항상 찾는곳으로 주차장도 지상도 있고 ...  \n",
       "3  짐 놓고갔엇는데 프론트 분 이 되게 친절하셨었어요 아아 송주차장이 없지만 그래도 주...  \n",
       "4  할머니 댁같은 느낌객실깔끔한데 오래된 느낌은 못 지우겠어요 전담을 옆방에서 피는지 ...  "
      ]
     },
     "execution_count": 21,
     "metadata": {},
     "output_type": "execute_result"
    }
   ],
   "source": [
    "df.head()"
   ]
  },
  {
   "cell_type": "code",
   "execution_count": 19,
   "metadata": {},
   "outputs": [],
   "source": [
    "df.to_csv(\"./preprocessing_data/combined_yeogi_data_clean.csv\", index=False, encoding='utf-8')"
   ]
  },
  {
   "cell_type": "code",
   "execution_count": 20,
   "metadata": {},
   "outputs": [
    {
     "data": {
      "text/html": [
       "<div>\n",
       "<style scoped>\n",
       "    .dataframe tbody tr th:only-of-type {\n",
       "        vertical-align: middle;\n",
       "    }\n",
       "\n",
       "    .dataframe tbody tr th {\n",
       "        vertical-align: top;\n",
       "    }\n",
       "\n",
       "    .dataframe thead th {\n",
       "        text-align: right;\n",
       "    }\n",
       "</style>\n",
       "<table border=\"1\" class=\"dataframe\">\n",
       "  <thead>\n",
       "    <tr style=\"text-align: right;\">\n",
       "      <th></th>\n",
       "      <th>review</th>\n",
       "      <th>review_spell_check</th>\n",
       "    </tr>\n",
       "  </thead>\n",
       "  <tbody>\n",
       "    <tr>\n",
       "      <th>0</th>\n",
       "      <td>매우매우 만족합니다 깨끗하고 시설도좋고 주변에 먹을것도많고 주차자리도 매우매우 널널...</td>\n",
       "      <td>매우매우 만족합니다 깨끗하고 시설도좋고 주변에 먹을것도많고 주차자리도 매우매우 널널...</td>\n",
       "    </tr>\n",
       "    <tr>\n",
       "      <th>1</th>\n",
       "      <td>주변에 숙소가 많은데 다른숙소를 주로 이용하다 이번에 처음 이용해보았는데 객실도 너...</td>\n",
       "      <td>주변에 숙소가 많은데 다른숙소를 주로 이용하다 이번에 처음 이용해보았는데 객실도 너...</td>\n",
       "    </tr>\n",
       "    <tr>\n",
       "      <th>2</th>\n",
       "      <td>봉명동 술집에서 술마실때 위치가 너무 좋아요 항상 찾는곳으로 주차장도 지상도 있고 ...</td>\n",
       "      <td>봉명동 술집에서 술마실때 위치가 너무 좋아요 항상 찾는곳으로 주차장도 지상도 있고 ...</td>\n",
       "    </tr>\n",
       "    <tr>\n",
       "      <th>3</th>\n",
       "      <td>짐 놓고갔엇는데 프론트 분 이 되게 친절하셨었어요 아아 송주차장이 없지만 그래도 주...</td>\n",
       "      <td>짐 놓고갔엇는데 프론트 분 이 되게 친절하셨었어요 아아 송주차장이 없지만 그래도 주...</td>\n",
       "    </tr>\n",
       "    <tr>\n",
       "      <th>4</th>\n",
       "      <td>할머니 댁같은 느낌객실깔끔한데 오래된 느낌은 못 지우겠어요 전담을 옆방에서 피는지 ...</td>\n",
       "      <td>할머니 댁같은 느낌객실깔끔한데 오래된 느낌은 못 지우겠어요 전담을 옆방에서 피는지 ...</td>\n",
       "    </tr>\n",
       "  </tbody>\n",
       "</table>\n",
       "</div>"
      ],
      "text/plain": [
       "                                              review  \\\n",
       "0  매우매우 만족합니다 깨끗하고 시설도좋고 주변에 먹을것도많고 주차자리도 매우매우 널널...   \n",
       "1  주변에 숙소가 많은데 다른숙소를 주로 이용하다 이번에 처음 이용해보았는데 객실도 너...   \n",
       "2  봉명동 술집에서 술마실때 위치가 너무 좋아요 항상 찾는곳으로 주차장도 지상도 있고 ...   \n",
       "3  짐 놓고갔엇는데 프론트 분 이 되게 친절하셨었어요 아아 송주차장이 없지만 그래도 주...   \n",
       "4  할머니 댁같은 느낌객실깔끔한데 오래된 느낌은 못 지우겠어요 전담을 옆방에서 피는지 ...   \n",
       "\n",
       "                                  review_spell_check  \n",
       "0  매우매우 만족합니다 깨끗하고 시설도좋고 주변에 먹을것도많고 주차자리도 매우매우 널널...  \n",
       "1  주변에 숙소가 많은데 다른숙소를 주로 이용하다 이번에 처음 이용해보았는데 객실도 너...  \n",
       "2  봉명동 술집에서 술마실때 위치가 너무 좋아요 항상 찾는곳으로 주차장도 지상도 있고 ...  \n",
       "3  짐 놓고갔엇는데 프론트 분 이 되게 친절하셨었어요 아아 송주차장이 없지만 그래도 주...  \n",
       "4  할머니 댁같은 느낌객실깔끔한데 오래된 느낌은 못 지우겠어요 전담을 옆방에서 피는지 ...  "
      ]
     },
     "execution_count": 20,
     "metadata": {},
     "output_type": "execute_result"
    }
   ],
   "source": [
    "# 기존 리뷰와 비교\n",
    "df[['review', 'review_spell_check']].head()"
   ]
  },
  {
   "cell_type": "code",
   "execution_count": 22,
   "metadata": {},
   "outputs": [],
   "source": [
    "df1 = pd.read_csv(\"./preprocessing_data/combined_yanolja_data_clean.csv\")"
   ]
  },
  {
   "cell_type": "code",
   "execution_count": 23,
   "metadata": {},
   "outputs": [
    {
     "data": {
      "text/html": [
       "<div>\n",
       "<style scoped>\n",
       "    .dataframe tbody tr th:only-of-type {\n",
       "        vertical-align: middle;\n",
       "    }\n",
       "\n",
       "    .dataframe tbody tr th {\n",
       "        vertical-align: top;\n",
       "    }\n",
       "\n",
       "    .dataframe thead th {\n",
       "        text-align: right;\n",
       "    }\n",
       "</style>\n",
       "<table border=\"1\" class=\"dataframe\">\n",
       "  <thead>\n",
       "    <tr style=\"text-align: right;\">\n",
       "      <th></th>\n",
       "      <th>hotel</th>\n",
       "      <th>star</th>\n",
       "      <th>review</th>\n",
       "      <th>date</th>\n",
       "      <th>price</th>\n",
       "      <th>address</th>\n",
       "      <th>district</th>\n",
       "      <th>length</th>\n",
       "      <th>review_spell_check</th>\n",
       "    </tr>\n",
       "  </thead>\n",
       "  <tbody>\n",
       "    <tr>\n",
       "      <th>0</th>\n",
       "      <td>베니키아 테크노밸리호텔</td>\n",
       "      <td>5</td>\n",
       "      <td>좋았어요 정말 생각 이상으로 좋았어요분위기좋고 방배정도 2개 예약했는데 센스있게 잡...</td>\n",
       "      <td>2024.02.13</td>\n",
       "      <td>95,000</td>\n",
       "      <td>대전광역시 유성구 테크노중앙로 57</td>\n",
       "      <td>유성구</td>\n",
       "      <td>140</td>\n",
       "      <td>좋았어요 정말 생각 이상으로 좋았어요분위기좋고 방배정도 2개 예약했는데 센스있게 잡...</td>\n",
       "    </tr>\n",
       "    <tr>\n",
       "      <th>1</th>\n",
       "      <td>베니키아 테크노밸리호텔</td>\n",
       "      <td>5</td>\n",
       "      <td>아이들이 방학이라 제가 근무하는 대전에 놀러왔는데 제가 머물고 있는 숙소가 너무 덥...</td>\n",
       "      <td>2024.08.17</td>\n",
       "      <td>95,000</td>\n",
       "      <td>대전광역시 유성구 테크노중앙로 57</td>\n",
       "      <td>유성구</td>\n",
       "      <td>159</td>\n",
       "      <td>아이들이 방학이라 제가 근무하는 대전에 놀러왔는데 제가 머물고 있는 숙소가 너무 덥...</td>\n",
       "    </tr>\n",
       "    <tr>\n",
       "      <th>2</th>\n",
       "      <td>베니키아 테크노밸리호텔</td>\n",
       "      <td>5</td>\n",
       "      <td>정말 괜찮았어요 분위기도 좋고 침대도 좋고 직원분도 친절해요 엘베도 빨라서 편했습니...</td>\n",
       "      <td>2024.02.13</td>\n",
       "      <td>95,000</td>\n",
       "      <td>대전광역시 유성구 테크노중앙로 57</td>\n",
       "      <td>유성구</td>\n",
       "      <td>132</td>\n",
       "      <td>정말 괜찮았어요 분위기도 좋고 침대도 좋고 직원분도 친절해요 엘베도 빨라서 편했습니...</td>\n",
       "    </tr>\n",
       "    <tr>\n",
       "      <th>3</th>\n",
       "      <td>베니키아 테크노밸리호텔</td>\n",
       "      <td>5</td>\n",
       "      <td>저렴한 가격에 굉장히 편하게 묵고 가요 직원분들도 굉장히 친절하십니다 게다가 룸 업...</td>\n",
       "      <td>2024.05.26</td>\n",
       "      <td>95,000</td>\n",
       "      <td>대전광역시 유성구 테크노중앙로 57</td>\n",
       "      <td>유성구</td>\n",
       "      <td>119</td>\n",
       "      <td>저렴한 가격에 굉장히 편하게 묵고 가요 직원분들도 굉장히 친절하십니다 게다가 룸 업...</td>\n",
       "    </tr>\n",
       "    <tr>\n",
       "      <th>4</th>\n",
       "      <td>베니키아 테크노밸리호텔</td>\n",
       "      <td>5</td>\n",
       "      <td>매번 청결 친절 등 전체적으로 만족스러운 호텔이예요 조식도 심플하지만 알찬 구성이라...</td>\n",
       "      <td>2024.11.01</td>\n",
       "      <td>95,000</td>\n",
       "      <td>대전광역시 유성구 테크노중앙로 57</td>\n",
       "      <td>유성구</td>\n",
       "      <td>50</td>\n",
       "      <td>매번 청결 친절 등 전체적으로 만족스러운 호텔이예요 조식도 심플하지만 알찬 구성이라...</td>\n",
       "    </tr>\n",
       "  </tbody>\n",
       "</table>\n",
       "</div>"
      ],
      "text/plain": [
       "          hotel  star                                             review  \\\n",
       "0  베니키아 테크노밸리호텔     5  좋았어요 정말 생각 이상으로 좋았어요분위기좋고 방배정도 2개 예약했는데 센스있게 잡...   \n",
       "1  베니키아 테크노밸리호텔     5  아이들이 방학이라 제가 근무하는 대전에 놀러왔는데 제가 머물고 있는 숙소가 너무 덥...   \n",
       "2  베니키아 테크노밸리호텔     5  정말 괜찮았어요 분위기도 좋고 침대도 좋고 직원분도 친절해요 엘베도 빨라서 편했습니...   \n",
       "3  베니키아 테크노밸리호텔     5  저렴한 가격에 굉장히 편하게 묵고 가요 직원분들도 굉장히 친절하십니다 게다가 룸 업...   \n",
       "4  베니키아 테크노밸리호텔     5  매번 청결 친절 등 전체적으로 만족스러운 호텔이예요 조식도 심플하지만 알찬 구성이라...   \n",
       "\n",
       "         date   price              address district  length  \\\n",
       "0  2024.02.13  95,000  대전광역시 유성구 테크노중앙로 57      유성구     140   \n",
       "1  2024.08.17  95,000  대전광역시 유성구 테크노중앙로 57      유성구     159   \n",
       "2  2024.02.13  95,000  대전광역시 유성구 테크노중앙로 57      유성구     132   \n",
       "3  2024.05.26  95,000  대전광역시 유성구 테크노중앙로 57      유성구     119   \n",
       "4  2024.11.01  95,000  대전광역시 유성구 테크노중앙로 57      유성구      50   \n",
       "\n",
       "                                  review_spell_check  \n",
       "0  좋았어요 정말 생각 이상으로 좋았어요분위기좋고 방배정도 2개 예약했는데 센스있게 잡...  \n",
       "1  아이들이 방학이라 제가 근무하는 대전에 놀러왔는데 제가 머물고 있는 숙소가 너무 덥...  \n",
       "2  정말 괜찮았어요 분위기도 좋고 침대도 좋고 직원분도 친절해요 엘베도 빨라서 편했습니...  \n",
       "3  저렴한 가격에 굉장히 편하게 묵고 가요 직원분들도 굉장히 친절하십니다 게다가 룸 업...  \n",
       "4  매번 청결 친절 등 전체적으로 만족스러운 호텔이예요 조식도 심플하지만 알찬 구성이라...  "
      ]
     },
     "execution_count": 23,
     "metadata": {},
     "output_type": "execute_result"
    }
   ],
   "source": [
    "df1.head()"
   ]
  },
  {
   "cell_type": "code",
   "execution_count": 24,
   "metadata": {},
   "outputs": [
    {
     "name": "stdout",
     "output_type": "stream",
     "text": [
      "<class 'pandas.core.frame.DataFrame'>\n",
      "RangeIndex: 309852 entries, 0 to 309851\n",
      "Data columns (total 9 columns):\n",
      " #   Column              Non-Null Count   Dtype \n",
      "---  ------              --------------   ----- \n",
      " 0   hotel               309852 non-null  object\n",
      " 1   star                309852 non-null  int64 \n",
      " 2   review              307481 non-null  object\n",
      " 3   date                309852 non-null  object\n",
      " 4   price               309852 non-null  object\n",
      " 5   address             309852 non-null  object\n",
      " 6   district            309852 non-null  object\n",
      " 7   length              309852 non-null  int64 \n",
      " 8   review_spell_check  307481 non-null  object\n",
      "dtypes: int64(2), object(7)\n",
      "memory usage: 21.3+ MB\n"
     ]
    }
   ],
   "source": [
    "final_df = pd.concat([df, df1], ignore_index=True)\n",
    "final_df.to_csv(\"./preprocessing_data/final_combined_data.csv\", index=False, encoding='utf-8')\n",
    "final_df.info()"
   ]
  },
  {
   "cell_type": "code",
   "execution_count": 26,
   "metadata": {},
   "outputs": [],
   "source": [
    "final_df['review']=final_df['review'].astype('str')"
   ]
  },
  {
   "cell_type": "code",
   "execution_count": null,
   "metadata": {},
   "outputs": [
    {
     "data": {
      "text/plain": [
       "0    매우매우 만족합니다 깨끗하고 시설도좋고 주변에 먹을것도많고 주차자리도 매우매우 널널...\n",
       "1    주변에 숙소가 많은데 다른숙소를 주로 이용하다 이번에 처음 이용해보았는데 객실도 너...\n",
       "2    봉명동 술집에서 술마실때 위치가 너무 좋아요 항상 찾는곳으로 주차장도 지상도 있고 ...\n",
       "3    짐 놓고갔엇는데 프론트 분 이 되게 친절하셨었어요 아아 송주차장이 없지만 그래도 주...\n",
       "4    할머니 댁같은 느낌객실깔끔한데 오래된 느낌은 못 지우겠어요 전담을 옆방에서 피는지 ...\n",
       "Name: review, dtype: object"
      ]
     },
     "execution_count": 27,
     "metadata": {},
     "output_type": "execute_result"
    }
   ],
   "source": [
    "# 직접확인하여 \\r 제거가 안된 행들을 발견 그래서 다시 처리\n",
    "def cleanText(readData):\n",
    "    text = re.sub(r'[-=+,#/\\?:;^$.@*\\\"※~&%ㆍ!』\\\\‘|\\(\\)\\[\\]\\<\\>`\\'…》❤⭐️\\r]', '', readData)\n",
    "    return text\n",
    "\n",
    "final_df['review'] = final_df['review'].apply(cleanText)\n",
    "final_df['review'].head()"
   ]
  },
  {
   "cell_type": "code",
   "execution_count": null,
   "metadata": {},
   "outputs": [],
   "source": [
    "final_df['review_spell_check']=final_df['review_spell_check'].astype('str')\n",
    "final_df['review_spell_check'] = final_df['review_spell_check'].apply(cleanText)"
   ]
  },
  {
   "cell_type": "code",
   "execution_count": 34,
   "metadata": {},
   "outputs": [
    {
     "name": "stdout",
     "output_type": "stream",
     "text": [
      "<class 'pandas.core.frame.DataFrame'>\n",
      "RangeIndex: 309852 entries, 0 to 309851\n",
      "Data columns (total 9 columns):\n",
      " #   Column        Non-Null Count   Dtype \n",
      "---  ------        --------------   ----- \n",
      " 0   hotel         309852 non-null  object\n",
      " 1   star          309852 non-null  int64 \n",
      " 2   review        309852 non-null  object\n",
      " 3   date          309852 non-null  object\n",
      " 4   price         309852 non-null  object\n",
      " 5   address       309852 non-null  object\n",
      " 6   district      309852 non-null  object\n",
      " 7   length        309852 non-null  int64 \n",
      " 8   clean_review  309852 non-null  object\n",
      "dtypes: int64(2), object(7)\n",
      "memory usage: 21.3+ MB\n"
     ]
    }
   ],
   "source": [
    "# 열 이름을 한 눈에 알아보기 쉽게 변경\n",
    "final_df.rename(columns={'review_spell_check': 'clean_review'}, inplace=True)\n",
    "\n",
    "final_df.info()"
   ]
  },
  {
   "cell_type": "code",
   "execution_count": null,
   "metadata": {},
   "outputs": [],
   "source": [
    "final_df.to_csv(\"./preprocessing_data/final_combined_data.csv\", index=False, encoding='utf-8')"
   ]
  }
 ],
 "metadata": {
  "kernelspec": {
   "display_name": "Python 3",
   "language": "python",
   "name": "python3"
  },
  "language_info": {
   "codemirror_mode": {
    "name": "ipython",
    "version": 3
   },
   "file_extension": ".py",
   "mimetype": "text/x-python",
   "name": "python",
   "nbconvert_exporter": "python",
   "pygments_lexer": "ipython3",
   "version": "3.12.6"
  }
 },
 "nbformat": 4,
 "nbformat_minor": 2
}
