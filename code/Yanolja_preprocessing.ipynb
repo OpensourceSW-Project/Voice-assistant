{
 "cells": [
  {
   "cell_type": "markdown",
   "metadata": {},
   "source": [
    "## 야놀자 데이터 전처리"
   ]
  },
  {
   "cell_type": "markdown",
   "metadata": {},
   "source": [
    "숙소 일정을 기준으로 이미 예약이 다 찬 링크에서는 가격을 가져오지 못하였기에 가격 N/A를 수동으로 채워넣을 것이다."
   ]
  },
  {
   "cell_type": "code",
   "execution_count": 3,
   "metadata": {},
   "outputs": [],
   "source": [
    "import pandas as pd\n",
    "import os"
   ]
  },
  {
   "cell_type": "code",
   "execution_count": null,
   "metadata": {},
   "outputs": [
    {
     "name": "stdout",
     "output_type": "stream",
     "text": [
      "Files with 'N/A' or NaN values: [2, 12, 30, 32, 36, 38, 57, 74, 101]\n"
     ]
    }
   ],
   "source": [
    "# 리뷰 폴더 경로 설정\n",
    "input_dir = 'C:/Users/yeonj/OneDrive/바탕 화면/data_crawling/review'\n",
    "na_indices = []\n",
    "\n",
    "# 0부터 109까지의 파일을 대상으로 N/A 값 확인\n",
    "for index in range(110):  # 0부터 109까지\n",
    "    file_path = os.path.join(input_dir, f'yanolja_data_{index}.csv')\n",
    "    if os.path.exists(file_path):\n",
    "        try:\n",
    "            df = pd.read_csv(file_path, encoding='utf-8')\n",
    "            \n",
    "            # N/A 값 확인 (문자열 'N/A')\n",
    "            if (df == 'N/A').any().any():\n",
    "                na_indices.append(index)\n",
    "                \n",
    "            # NaN 값 확인 (결측치)\n",
    "            elif df.isna().any().any():\n",
    "                na_indices.append(index)\n",
    "\n",
    "        except Exception as e:\n",
    "            print(f\"Error reading file {file_path}: {e}\")\n",
    "    else:\n",
    "        print(f\"File not found: {file_path}\")\n",
    "\n",
    "# 결과 출력\n",
    "print(f\"Files with 'N/A' or NaN values: {na_indices}\")\n",
    "\n"
   ]
  },
  {
   "cell_type": "markdown",
   "metadata": {},
   "source": [
    "## 1. 결측치 확인"
   ]
  },
  {
   "cell_type": "code",
   "execution_count": null,
   "metadata": {},
   "outputs": [
    {
     "name": "stdout",
     "output_type": "stream",
     "text": [
      "<class 'pandas.core.frame.DataFrame'>\n",
      "RangeIndex: 100 entries, 0 to 99\n",
      "Data columns (total 6 columns):\n",
      " #   Column   Non-Null Count  Dtype  \n",
      "---  ------   --------------  -----  \n",
      " 0   hotel    100 non-null    object \n",
      " 1   star     100 non-null    int64  \n",
      " 2   review   100 non-null    object \n",
      " 3   date     100 non-null    object \n",
      " 4   price    0 non-null      float64\n",
      " 5   address  100 non-null    object \n",
      "dtypes: float64(1), int64(1), object(4)\n",
      "memory usage: 4.8+ KB\n"
     ]
    }
   ],
   "source": [
    "# 결측지 확인을 위한 코드\n",
    "\"\"\"[2, 12, 30, 32, 36, 38, 57, 74, 101]\"\"\"\n",
    "\n",
    "file_path = 'C:/Users/yeonj/OneDrive/바탕 화면/data_crawling/review/yanolja_data_2.csv'\n",
    "\n",
    "if os.path.exists(file_path):\n",
    "    try:\n",
    "        df = pd.read_csv(file_path, encoding='utf-8')\n",
    "        df.info() \n",
    "    except Exception as e:\n",
    "        print(f\"Error reading file {file_path}: {e}\")\n",
    "else:\n",
    "    print(\"File not found.\")\n"
   ]
  },
  {
   "cell_type": "code",
   "execution_count": null,
   "metadata": {},
   "outputs": [
    {
     "name": "stdout",
     "output_type": "stream",
     "text": [
      "<class 'pandas.core.frame.DataFrame'>\n",
      "RangeIndex: 19 entries, 0 to 18\n",
      "Data columns (total 6 columns):\n",
      " #   Column   Non-Null Count  Dtype \n",
      "---  ------   --------------  ----- \n",
      " 0   hotel    19 non-null     object\n",
      " 1   star     19 non-null     int64 \n",
      " 2   review   19 non-null     object\n",
      " 3   date     19 non-null     object\n",
      " 4   price    19 non-null     object\n",
      " 5   address  19 non-null     object\n",
      "dtypes: int64(1), object(5)\n",
      "memory usage: 1.0+ KB\n"
     ]
    }
   ],
   "source": [
    "file_path = 'C:/Users/yeonj/OneDrive/바탕 화면/data_crawling/review/yanolja_data_12.csv'\n",
    "\n",
    "if os.path.exists(file_path):\n",
    "    try:\n",
    "        df = pd.read_csv(file_path, encoding='utf-8')\n",
    "        df.info()\n",
    "    except Exception as e:\n",
    "        print(f\"Error reading file {file_path}: {e}\")\n",
    "else:\n",
    "    print(\"File not found.\")"
   ]
  },
  {
   "cell_type": "code",
   "execution_count": null,
   "metadata": {},
   "outputs": [
    {
     "name": "stdout",
     "output_type": "stream",
     "text": [
      "<class 'pandas.core.frame.DataFrame'>\n",
      "RangeIndex: 440 entries, 0 to 439\n",
      "Data columns (total 6 columns):\n",
      " #   Column   Non-Null Count  Dtype \n",
      "---  ------   --------------  ----- \n",
      " 0   hotel    440 non-null    object\n",
      " 1   star     440 non-null    int64 \n",
      " 2   review   440 non-null    object\n",
      " 3   date     440 non-null    object\n",
      " 4   price    440 non-null    object\n",
      " 5   address  440 non-null    object\n",
      "dtypes: int64(1), object(5)\n",
      "memory usage: 20.8+ KB\n"
     ]
    }
   ],
   "source": [
    "file_path = 'C:/Users/yeonj/OneDrive/바탕 화면/data_crawling/review/yanolja_data_30.csv'\n",
    "\n",
    "if os.path.exists(file_path):\n",
    "    try:\n",
    "        df = pd.read_csv(file_path, encoding='utf-8')\n",
    "        df.info()\n",
    "    except Exception as e:\n",
    "        print(f\"Error reading file {file_path}: {e}\")\n",
    "else:\n",
    "    print(\"File not found.\")"
   ]
  },
  {
   "cell_type": "code",
   "execution_count": null,
   "metadata": {},
   "outputs": [
    {
     "name": "stdout",
     "output_type": "stream",
     "text": [
      "<class 'pandas.core.frame.DataFrame'>\n",
      "RangeIndex: 182 entries, 0 to 181\n",
      "Data columns (total 6 columns):\n",
      " #   Column   Non-Null Count  Dtype  \n",
      "---  ------   --------------  -----  \n",
      " 0   hotel    182 non-null    object \n",
      " 1   star     182 non-null    int64  \n",
      " 2   review   182 non-null    object \n",
      " 3   date     182 non-null    object \n",
      " 4   price    0 non-null      float64\n",
      " 5   address  182 non-null    object \n",
      "dtypes: float64(1), int64(1), object(4)\n",
      "memory usage: 8.7+ KB\n"
     ]
    }
   ],
   "source": [
    "file_path = 'C:/Users/yeonj/OneDrive/바탕 화면/data_crawling/review/yanolja_data_32.csv'\n",
    "\n",
    "if os.path.exists(file_path):\n",
    "    try:\n",
    "        df = pd.read_csv(file_path, encoding='utf-8')\n",
    "        df.info()\n",
    "    except Exception as e:\n",
    "        print(f\"Error reading file {file_path}: {e}\")\n",
    "else:\n",
    "    print(\"File not found.\")"
   ]
  },
  {
   "cell_type": "code",
   "execution_count": null,
   "metadata": {},
   "outputs": [
    {
     "name": "stdout",
     "output_type": "stream",
     "text": [
      "<class 'pandas.core.frame.DataFrame'>\n",
      "RangeIndex: 20 entries, 0 to 19\n",
      "Data columns (total 6 columns):\n",
      " #   Column   Non-Null Count  Dtype  \n",
      "---  ------   --------------  -----  \n",
      " 0   hotel    20 non-null     object \n",
      " 1   star     20 non-null     int64  \n",
      " 2   review   20 non-null     object \n",
      " 3   date     20 non-null     object \n",
      " 4   price    0 non-null      float64\n",
      " 5   address  20 non-null     object \n",
      "dtypes: float64(1), int64(1), object(4)\n",
      "memory usage: 1.1+ KB\n"
     ]
    }
   ],
   "source": [
    "file_path = 'C:/Users/yeonj/OneDrive/바탕 화면/data_crawling/review/yanolja_data_36.csv'\n",
    "\n",
    "if os.path.exists(file_path):\n",
    "    try:\n",
    "        df = pd.read_csv(file_path, encoding='utf-8')\n",
    "        df.info()\n",
    "    except Exception as e:\n",
    "        print(f\"Error reading file {file_path}: {e}\")\n",
    "else:\n",
    "    print(\"File not found.\")"
   ]
  },
  {
   "cell_type": "code",
   "execution_count": null,
   "metadata": {},
   "outputs": [
    {
     "name": "stdout",
     "output_type": "stream",
     "text": [
      "<class 'pandas.core.frame.DataFrame'>\n",
      "RangeIndex: 3 entries, 0 to 2\n",
      "Data columns (total 6 columns):\n",
      " #   Column   Non-Null Count  Dtype  \n",
      "---  ------   --------------  -----  \n",
      " 0   hotel    3 non-null      object \n",
      " 1   star     3 non-null      int64  \n",
      " 2   review   3 non-null      object \n",
      " 3   date     3 non-null      object \n",
      " 4   price    0 non-null      float64\n",
      " 5   address  3 non-null      object \n",
      "dtypes: float64(1), int64(1), object(4)\n",
      "memory usage: 276.0+ bytes\n"
     ]
    }
   ],
   "source": [
    "file_path = 'C:/Users/yeonj/OneDrive/바탕 화면/data_crawling/review/yanolja_data_38.csv'\n",
    "\n",
    "if os.path.exists(file_path):\n",
    "    try:\n",
    "        df = pd.read_csv(file_path, encoding='utf-8')\n",
    "        df.info()\n",
    "    except Exception as e:\n",
    "        print(f\"Error reading file {file_path}: {e}\")\n",
    "else:\n",
    "    print(\"File not found.\")"
   ]
  },
  {
   "cell_type": "code",
   "execution_count": null,
   "metadata": {},
   "outputs": [
    {
     "name": "stdout",
     "output_type": "stream",
     "text": [
      "<class 'pandas.core.frame.DataFrame'>\n",
      "RangeIndex: 3468 entries, 0 to 3467\n",
      "Data columns (total 6 columns):\n",
      " #   Column   Non-Null Count  Dtype  \n",
      "---  ------   --------------  -----  \n",
      " 0   hotel    3468 non-null   object \n",
      " 1   star     3468 non-null   int64  \n",
      " 2   review   3468 non-null   object \n",
      " 3   date     3468 non-null   object \n",
      " 4   price    0 non-null      float64\n",
      " 5   address  3468 non-null   object \n",
      "dtypes: float64(1), int64(1), object(4)\n",
      "memory usage: 162.7+ KB\n"
     ]
    }
   ],
   "source": [
    "file_path = 'C:/Users/yeonj/OneDrive/바탕 화면/data_crawling/review/yanolja_data_57.csv'\n",
    "\n",
    "if os.path.exists(file_path):\n",
    "    try:\n",
    "        df = pd.read_csv(file_path, encoding='utf-8')\n",
    "        df.info()\n",
    "    except Exception as e:\n",
    "        print(f\"Error reading file {file_path}: {e}\")\n",
    "else:\n",
    "    print(\"File not found.\")"
   ]
  },
  {
   "cell_type": "code",
   "execution_count": null,
   "metadata": {},
   "outputs": [
    {
     "name": "stdout",
     "output_type": "stream",
     "text": [
      "<class 'pandas.core.frame.DataFrame'>\n",
      "RangeIndex: 3015 entries, 0 to 3014\n",
      "Data columns (total 6 columns):\n",
      " #   Column   Non-Null Count  Dtype \n",
      "---  ------   --------------  ----- \n",
      " 0   hotel    3015 non-null   object\n",
      " 1   star     3015 non-null   int64 \n",
      " 2   review   3013 non-null   object\n",
      " 3   date     3015 non-null   object\n",
      " 4   price    3015 non-null   object\n",
      " 5   address  3015 non-null   object\n",
      "dtypes: int64(1), object(5)\n",
      "memory usage: 141.5+ KB\n"
     ]
    }
   ],
   "source": [
    "file_path = 'C:/Users/yeonj/OneDrive/바탕 화면/data_crawling/review/yanolja_data_74.csv'\n",
    "\n",
    "if os.path.exists(file_path):\n",
    "    try:\n",
    "        df = pd.read_csv(file_path, encoding='utf-8')\n",
    "        df.info()\n",
    "    except Exception as e:\n",
    "        print(f\"Error reading file {file_path}: {e}\")\n",
    "else:\n",
    "    print(\"File not found.\")"
   ]
  },
  {
   "cell_type": "code",
   "execution_count": null,
   "metadata": {},
   "outputs": [
    {
     "name": "stdout",
     "output_type": "stream",
     "text": [
      "<class 'pandas.core.frame.DataFrame'>\n",
      "RangeIndex: 4020 entries, 0 to 4019\n",
      "Data columns (total 6 columns):\n",
      " #   Column   Non-Null Count  Dtype \n",
      "---  ------   --------------  ----- \n",
      " 0   hotel    4020 non-null   object\n",
      " 1   star     4020 non-null   int64 \n",
      " 2   review   4019 non-null   object\n",
      " 3   date     4020 non-null   object\n",
      " 4   price    4020 non-null   object\n",
      " 5   address  4020 non-null   object\n",
      "dtypes: int64(1), object(5)\n",
      "memory usage: 188.6+ KB\n"
     ]
    }
   ],
   "source": [
    "file_path = 'C:/Users/yeonj/OneDrive/바탕 화면/data_crawling/review/yanolja_data_101.csv'\n",
    "\n",
    "if os.path.exists(file_path):\n",
    "    try:\n",
    "        df = pd.read_csv(file_path, encoding='utf-8')\n",
    "        df.info()\n",
    "    except Exception as e:\n",
    "        print(f\"Error reading file {file_path}: {e}\")\n",
    "else:\n",
    "    print(\"File not found.\")"
   ]
  },
  {
   "cell_type": "markdown",
   "metadata": {},
   "source": [
    "## 2. 결측치 대체하기"
   ]
  },
  {
   "cell_type": "code",
   "execution_count": null,
   "metadata": {},
   "outputs": [
    {
     "data": {
      "text/html": [
       "<div>\n",
       "<style scoped>\n",
       "    .dataframe tbody tr th:only-of-type {\n",
       "        vertical-align: middle;\n",
       "    }\n",
       "\n",
       "    .dataframe tbody tr th {\n",
       "        vertical-align: top;\n",
       "    }\n",
       "\n",
       "    .dataframe thead th {\n",
       "        text-align: right;\n",
       "    }\n",
       "</style>\n",
       "<table border=\"1\" class=\"dataframe\">\n",
       "  <thead>\n",
       "    <tr style=\"text-align: right;\">\n",
       "      <th></th>\n",
       "      <th>hotel</th>\n",
       "      <th>star</th>\n",
       "      <th>review</th>\n",
       "      <th>date</th>\n",
       "      <th>price</th>\n",
       "      <th>address</th>\n",
       "    </tr>\n",
       "  </thead>\n",
       "  <tbody>\n",
       "    <tr>\n",
       "      <th>0</th>\n",
       "      <td>대전 유성 은하수디앤엠(D&amp;M)</td>\n",
       "      <td>5</td>\n",
       "      <td>숙소 볼때 교통이랑 깨끗한지가 제일 중요한데 두개 다 만족 스러웠어요! 지하철역이랑...</td>\n",
       "      <td>2024.01.05</td>\n",
       "      <td>180,000</td>\n",
       "      <td>대전광역시 유성구 계룡로141번길 13-5</td>\n",
       "    </tr>\n",
       "    <tr>\n",
       "      <th>1</th>\n",
       "      <td>대전 유성 은하수디앤엠(D&amp;M)</td>\n",
       "      <td>5</td>\n",
       "      <td>연말파티로 친구들과 \\n방문을 했는데 정말 너무 너무 편하게 \\n잘 쉬다 갑니다!\\...</td>\n",
       "      <td>2024.01.05</td>\n",
       "      <td>180,000</td>\n",
       "      <td>대전광역시 유성구 계룡로141번길 13-5</td>\n",
       "    </tr>\n",
       "    <tr>\n",
       "      <th>2</th>\n",
       "      <td>대전 유성 은하수디앤엠(D&amp;M)</td>\n",
       "      <td>5</td>\n",
       "      <td>친구들과 티비보면서 밥도먹고 연말 파티하려고 예약했어요 ! 화장실 두개에 방도 세갠...</td>\n",
       "      <td>2023.12.29</td>\n",
       "      <td>180,000</td>\n",
       "      <td>대전광역시 유성구 계룡로141번길 13-5</td>\n",
       "    </tr>\n",
       "    <tr>\n",
       "      <th>3</th>\n",
       "      <td>대전 유성 은하수디앤엠(D&amp;M)</td>\n",
       "      <td>5</td>\n",
       "      <td>♥️ 숙박계기\\n; 동생이 논산으로 입대를 하게 되어 원래는 유성온천에서 하루 숙박...</td>\n",
       "      <td>2024.04.23</td>\n",
       "      <td>180,000</td>\n",
       "      <td>대전광역시 유성구 계룡로141번길 13-5</td>\n",
       "    </tr>\n",
       "    <tr>\n",
       "      <th>4</th>\n",
       "      <td>대전 유성 은하수디앤엠(D&amp;M)</td>\n",
       "      <td>5</td>\n",
       "      <td>생각보다 숙소가 작았지만 깨끗해서 좋았어요\\n예약 인원보다 수저세트가 부족해서 아쉬...</td>\n",
       "      <td>4일 전</td>\n",
       "      <td>180,000</td>\n",
       "      <td>대전광역시 유성구 계룡로141번길 13-5</td>\n",
       "    </tr>\n",
       "  </tbody>\n",
       "</table>\n",
       "</div>"
      ],
      "text/plain": [
       "               hotel  star                                             review  \\\n",
       "0  대전 유성 은하수디앤엠(D&M)     5  숙소 볼때 교통이랑 깨끗한지가 제일 중요한데 두개 다 만족 스러웠어요! 지하철역이랑...   \n",
       "1  대전 유성 은하수디앤엠(D&M)     5  연말파티로 친구들과 \\n방문을 했는데 정말 너무 너무 편하게 \\n잘 쉬다 갑니다!\\...   \n",
       "2  대전 유성 은하수디앤엠(D&M)     5  친구들과 티비보면서 밥도먹고 연말 파티하려고 예약했어요 ! 화장실 두개에 방도 세갠...   \n",
       "3  대전 유성 은하수디앤엠(D&M)     5  ♥️ 숙박계기\\n; 동생이 논산으로 입대를 하게 되어 원래는 유성온천에서 하루 숙박...   \n",
       "4  대전 유성 은하수디앤엠(D&M)     5  생각보다 숙소가 작았지만 깨끗해서 좋았어요\\n예약 인원보다 수저세트가 부족해서 아쉬...   \n",
       "\n",
       "         date    price                  address  \n",
       "0  2024.01.05  180,000  대전광역시 유성구 계룡로141번길 13-5  \n",
       "1  2024.01.05  180,000  대전광역시 유성구 계룡로141번길 13-5  \n",
       "2  2023.12.29  180,000  대전광역시 유성구 계룡로141번길 13-5  \n",
       "3  2024.04.23  180,000  대전광역시 유성구 계룡로141번길 13-5  \n",
       "4        4일 전  180,000  대전광역시 유성구 계룡로141번길 13-5  "
      ]
     },
     "execution_count": 30,
     "metadata": {},
     "output_type": "execute_result"
    }
   ],
   "source": [
    "file_path = 'C:/Users/yeonj/OneDrive/바탕 화면/data_crawling/review/yanolja_data_2.csv'\n",
    "\n",
    "if os.path.exists(file_path):\n",
    "    \n",
    "    df = pd.read_csv(file_path, encoding='utf-8')\n",
    "        \n",
    "    # 'price' 열의 NaN 값을 '180,000'으로 변경\n",
    "    df['price'] = df['price'].fillna('180,000')\n",
    "        \n",
    "    # 변경된 데이터 저장 (원본 파일을 덮어쓰거나 새 파일로 저장할 수 있습니다)\n",
    "    df.to_csv(file_path, index=False, encoding='utf-8')\n",
    "    \n",
    "# 변경된 데이터 확인\n",
    "df.head()"
   ]
  },
  {
   "cell_type": "code",
   "execution_count": null,
   "metadata": {},
   "outputs": [
    {
     "name": "stdout",
     "output_type": "stream",
     "text": [
      "Original DataFrame:\n",
      "<class 'pandas.core.frame.DataFrame'>\n",
      "RangeIndex: 3015 entries, 0 to 3014\n",
      "Data columns (total 6 columns):\n",
      " #   Column   Non-Null Count  Dtype \n",
      "---  ------   --------------  ----- \n",
      " 0   hotel    3015 non-null   object\n",
      " 1   star     3015 non-null   int64 \n",
      " 2   review   3013 non-null   object\n",
      " 3   date     3015 non-null   object\n",
      " 4   price    3015 non-null   object\n",
      " 5   address  3015 non-null   object\n",
      "dtypes: int64(1), object(5)\n",
      "memory usage: 141.5+ KB\n",
      "\n",
      "Cleaned DataFrame:\n",
      "<class 'pandas.core.frame.DataFrame'>\n",
      "Index: 3013 entries, 0 to 3014\n",
      "Data columns (total 6 columns):\n",
      " #   Column   Non-Null Count  Dtype \n",
      "---  ------   --------------  ----- \n",
      " 0   hotel    3013 non-null   object\n",
      " 1   star     3013 non-null   int64 \n",
      " 2   review   3013 non-null   object\n",
      " 3   date     3013 non-null   object\n",
      " 4   price    3013 non-null   object\n",
      " 5   address  3013 non-null   object\n",
      "dtypes: int64(1), object(5)\n",
      "memory usage: 164.8+ KB\n",
      "\n",
      "Cleaned Data saved to ./review/yanolja_data_74.csv\n"
     ]
    }
   ],
   "source": [
    "file_path = 'C:/Users/yeonj/OneDrive/바탕 화면/data_crawling/review/yanolja_data_74.csv'\n",
    "\n",
    "if os.path.exists(file_path):\n",
    "    try:\n",
    "        df = pd.read_csv(file_path, encoding='utf-8')\n",
    "        print(\"Original DataFrame:\")\n",
    "        df.info()\n",
    "\n",
    "        df_cleaned = df.dropna(subset=['review'])\n",
    "\n",
    "        print(\"\\nCleaned DataFrame:\")\n",
    "        df_cleaned.info()\n",
    "\n",
    "        cleaned_file_path = './review/yanolja_data_74.csv'\n",
    "        df_cleaned.to_csv(cleaned_file_path, index=False, encoding='utf-8')\n",
    "        print(f\"\\nCleaned Data saved to {cleaned_file_path}\")\n",
    "\n",
    "    except Exception as e:\n",
    "        print(f\"Error reading file {file_path}: {e}\")\n",
    "else:\n",
    "    print(\"File not found.\")"
   ]
  },
  {
   "cell_type": "code",
   "execution_count": 37,
   "metadata": {},
   "outputs": [
    {
     "name": "stdout",
     "output_type": "stream",
     "text": [
      "<class 'pandas.core.frame.DataFrame'>\n",
      "Index: 3013 entries, 0 to 3014\n",
      "Data columns (total 6 columns):\n",
      " #   Column   Non-Null Count  Dtype \n",
      "---  ------   --------------  ----- \n",
      " 0   hotel    3013 non-null   object\n",
      " 1   star     3013 non-null   int64 \n",
      " 2   review   3013 non-null   object\n",
      " 3   date     3013 non-null   object\n",
      " 4   price    3013 non-null   object\n",
      " 5   address  3013 non-null   object\n",
      "dtypes: int64(1), object(5)\n",
      "memory usage: 164.8+ KB\n"
     ]
    }
   ],
   "source": [
    "df_cleaned.info()"
   ]
  },
  {
   "cell_type": "code",
   "execution_count": null,
   "metadata": {},
   "outputs": [
    {
     "name": "stdout",
     "output_type": "stream",
     "text": [
      "Original DataFrame:\n",
      "<class 'pandas.core.frame.DataFrame'>\n",
      "RangeIndex: 4020 entries, 0 to 4019\n",
      "Data columns (total 6 columns):\n",
      " #   Column   Non-Null Count  Dtype \n",
      "---  ------   --------------  ----- \n",
      " 0   hotel    4020 non-null   object\n",
      " 1   star     4020 non-null   int64 \n",
      " 2   review   4019 non-null   object\n",
      " 3   date     4020 non-null   object\n",
      " 4   price    4020 non-null   object\n",
      " 5   address  4020 non-null   object\n",
      "dtypes: int64(1), object(5)\n",
      "memory usage: 188.6+ KB\n",
      "\n",
      "Cleaned DataFrame:\n",
      "<class 'pandas.core.frame.DataFrame'>\n",
      "Index: 4019 entries, 0 to 4019\n",
      "Data columns (total 6 columns):\n",
      " #   Column   Non-Null Count  Dtype \n",
      "---  ------   --------------  ----- \n",
      " 0   hotel    4019 non-null   object\n",
      " 1   star     4019 non-null   int64 \n",
      " 2   review   4019 non-null   object\n",
      " 3   date     4019 non-null   object\n",
      " 4   price    4019 non-null   object\n",
      " 5   address  4019 non-null   object\n",
      "dtypes: int64(1), object(5)\n",
      "memory usage: 219.8+ KB\n",
      "\n",
      "Cleaned Data saved to ./review/yanolja_data_101.csv\n"
     ]
    }
   ],
   "source": [
    "file_path = 'C:/Users/yeonj/OneDrive/바탕 화면/data_crawling/review/yanolja_data_101.csv'\n",
    "\n",
    "if os.path.exists(file_path):\n",
    "    try:\n",
    "        df = pd.read_csv(file_path, encoding='utf-8')\n",
    "        print(\"Original DataFrame:\")\n",
    "        df.info()\n",
    "\n",
    "        df_cleaned = df.dropna(subset=['review'])\n",
    "\n",
    "        print(\"\\nCleaned DataFrame:\")\n",
    "        df_cleaned.info()\n",
    "\n",
    "        cleaned_file_path = './review/yanolja_data_101.csv'\n",
    "        df_cleaned.to_csv(cleaned_file_path, index=False, encoding='utf-8')\n",
    "        print(f\"\\nCleaned Data saved to {cleaned_file_path}\")\n",
    "\n",
    "    except Exception as e:\n",
    "        print(f\"Error reading file {file_path}: {e}\")\n",
    "else:\n",
    "    print(\"File not found.\")"
   ]
  },
  {
   "cell_type": "markdown",
   "metadata": {},
   "source": [
    "## 3. data 날짜 전처리"
   ]
  },
  {
   "cell_type": "code",
   "execution_count": 39,
   "metadata": {},
   "outputs": [],
   "source": [
    "import datetime\n",
    "from datetime import timedelta"
   ]
  },
  {
   "cell_type": "code",
   "execution_count": 40,
   "metadata": {},
   "outputs": [],
   "source": [
    "def change_date(x):\n",
    "    now = datetime.datetime.today()\n",
    "    today = now.strftime(\"%Y. %m. %d\")\n",
    "    yesterday = (now - timedelta(days=1)).strftime(\"%Y. %m. %d\")\n",
    "    _2days_ago = (now - timedelta(days = 2)).strftime(\"%Y. %m. %d\")\n",
    "    _3days_ago = (now - timedelta(days = 3)).strftime(\"%Y. %m. %d\")\n",
    "    hour = int(datetime.datetime.today().strftime(\"%H\"))\n",
    "    if \"시간 전\" in x:\n",
    "        x = int(x.replace(\"시간 전\", \"\"))\n",
    "        if hour - x > 0: return today\n",
    "        else: return yesterday\n",
    "    elif \"일 전\" in x:\n",
    "        if \"1\" in x: return yesterday\n",
    "        elif \"2\" in x: return _2days_ago\n",
    "        else: return _3days_ago\n",
    "    else: return x"
   ]
  },
  {
   "cell_type": "code",
   "execution_count": null,
   "metadata": {},
   "outputs": [
    {
     "name": "stdout",
     "output_type": "stream",
     "text": [
      "Updated data saved to ./review\\yanolja_data_0.csv\n",
      "Updated data saved to ./review\\yanolja_data_1.csv\n",
      "Updated data saved to ./review\\yanolja_data_2.csv\n",
      "Updated data saved to ./review\\yanolja_data_3.csv\n",
      "Updated data saved to ./review\\yanolja_data_4.csv\n",
      "Updated data saved to ./review\\yanolja_data_5.csv\n",
      "Updated data saved to ./review\\yanolja_data_6.csv\n",
      "Updated data saved to ./review\\yanolja_data_7.csv\n",
      "Updated data saved to ./review\\yanolja_data_8.csv\n",
      "Updated data saved to ./review\\yanolja_data_9.csv\n",
      "Updated data saved to ./review\\yanolja_data_10.csv\n",
      "Updated data saved to ./review\\yanolja_data_11.csv\n",
      "Updated data saved to ./review\\yanolja_data_12.csv\n",
      "Updated data saved to ./review\\yanolja_data_13.csv\n",
      "Updated data saved to ./review\\yanolja_data_14.csv\n",
      "Updated data saved to ./review\\yanolja_data_15.csv\n",
      "Updated data saved to ./review\\yanolja_data_16.csv\n",
      "Updated data saved to ./review\\yanolja_data_17.csv\n",
      "Updated data saved to ./review\\yanolja_data_18.csv\n",
      "Updated data saved to ./review\\yanolja_data_19.csv\n",
      "Updated data saved to ./review\\yanolja_data_20.csv\n",
      "Updated data saved to ./review\\yanolja_data_21.csv\n",
      "Updated data saved to ./review\\yanolja_data_22.csv\n",
      "Updated data saved to ./review\\yanolja_data_23.csv\n",
      "Updated data saved to ./review\\yanolja_data_24.csv\n",
      "Updated data saved to ./review\\yanolja_data_25.csv\n",
      "Updated data saved to ./review\\yanolja_data_26.csv\n",
      "Updated data saved to ./review\\yanolja_data_27.csv\n",
      "Updated data saved to ./review\\yanolja_data_28.csv\n",
      "Updated data saved to ./review\\yanolja_data_29.csv\n",
      "Updated data saved to ./review\\yanolja_data_30.csv\n",
      "Updated data saved to ./review\\yanolja_data_31.csv\n",
      "Updated data saved to ./review\\yanolja_data_32.csv\n",
      "Updated data saved to ./review\\yanolja_data_33.csv\n",
      "Updated data saved to ./review\\yanolja_data_34.csv\n",
      "Updated data saved to ./review\\yanolja_data_35.csv\n",
      "Updated data saved to ./review\\yanolja_data_36.csv\n",
      "Updated data saved to ./review\\yanolja_data_37.csv\n",
      "Updated data saved to ./review\\yanolja_data_38.csv\n",
      "Updated data saved to ./review\\yanolja_data_39.csv\n",
      "Updated data saved to ./review\\yanolja_data_40.csv\n",
      "Updated data saved to ./review\\yanolja_data_41.csv\n",
      "Updated data saved to ./review\\yanolja_data_42.csv\n",
      "Updated data saved to ./review\\yanolja_data_43.csv\n",
      "Updated data saved to ./review\\yanolja_data_44.csv\n",
      "Updated data saved to ./review\\yanolja_data_45.csv\n",
      "Updated data saved to ./review\\yanolja_data_46.csv\n",
      "Updated data saved to ./review\\yanolja_data_47.csv\n",
      "Updated data saved to ./review\\yanolja_data_48.csv\n",
      "Updated data saved to ./review\\yanolja_data_49.csv\n",
      "Updated data saved to ./review\\yanolja_data_50.csv\n",
      "Updated data saved to ./review\\yanolja_data_51.csv\n",
      "Updated data saved to ./review\\yanolja_data_52.csv\n",
      "Updated data saved to ./review\\yanolja_data_53.csv\n",
      "Updated data saved to ./review\\yanolja_data_54.csv\n",
      "Updated data saved to ./review\\yanolja_data_55.csv\n",
      "Updated data saved to ./review\\yanolja_data_56.csv\n",
      "Updated data saved to ./review\\yanolja_data_57.csv\n",
      "Updated data saved to ./review\\yanolja_data_58.csv\n",
      "Updated data saved to ./review\\yanolja_data_59.csv\n",
      "Updated data saved to ./review\\yanolja_data_60.csv\n",
      "Updated data saved to ./review\\yanolja_data_61.csv\n",
      "Updated data saved to ./review\\yanolja_data_62.csv\n",
      "Updated data saved to ./review\\yanolja_data_63.csv\n",
      "Updated data saved to ./review\\yanolja_data_64.csv\n",
      "Updated data saved to ./review\\yanolja_data_65.csv\n",
      "Updated data saved to ./review\\yanolja_data_66.csv\n",
      "Updated data saved to ./review\\yanolja_data_67.csv\n",
      "Updated data saved to ./review\\yanolja_data_68.csv\n",
      "Updated data saved to ./review\\yanolja_data_69.csv\n",
      "Updated data saved to ./review\\yanolja_data_70.csv\n",
      "Updated data saved to ./review\\yanolja_data_71.csv\n",
      "Updated data saved to ./review\\yanolja_data_72.csv\n",
      "Updated data saved to ./review\\yanolja_data_73.csv\n",
      "Updated data saved to ./review\\yanolja_data_74.csv\n",
      "Updated data saved to ./review\\yanolja_data_75.csv\n",
      "Updated data saved to ./review\\yanolja_data_76.csv\n",
      "Updated data saved to ./review\\yanolja_data_77.csv\n",
      "Updated data saved to ./review\\yanolja_data_78.csv\n",
      "Updated data saved to ./review\\yanolja_data_79.csv\n",
      "Updated data saved to ./review\\yanolja_data_80.csv\n",
      "Updated data saved to ./review\\yanolja_data_81.csv\n",
      "Updated data saved to ./review\\yanolja_data_82.csv\n",
      "Updated data saved to ./review\\yanolja_data_83.csv\n",
      "Updated data saved to ./review\\yanolja_data_84.csv\n",
      "Updated data saved to ./review\\yanolja_data_85.csv\n",
      "Updated data saved to ./review\\yanolja_data_86.csv\n",
      "Updated data saved to ./review\\yanolja_data_87.csv\n",
      "Updated data saved to ./review\\yanolja_data_88.csv\n",
      "Updated data saved to ./review\\yanolja_data_89.csv\n",
      "Updated data saved to ./review\\yanolja_data_90.csv\n",
      "Updated data saved to ./review\\yanolja_data_91.csv\n",
      "Updated data saved to ./review\\yanolja_data_92.csv\n",
      "Updated data saved to ./review\\yanolja_data_93.csv\n",
      "Updated data saved to ./review\\yanolja_data_94.csv\n",
      "Updated data saved to ./review\\yanolja_data_95.csv\n",
      "Updated data saved to ./review\\yanolja_data_96.csv\n",
      "Updated data saved to ./review\\yanolja_data_97.csv\n",
      "Updated data saved to ./review\\yanolja_data_98.csv\n",
      "Updated data saved to ./review\\yanolja_data_99.csv\n",
      "Updated data saved to ./review\\yanolja_data_100.csv\n",
      "Updated data saved to ./review\\yanolja_data_101.csv\n",
      "Updated data saved to ./review\\yanolja_data_102.csv\n",
      "Updated data saved to ./review\\yanolja_data_103.csv\n",
      "Updated data saved to ./review\\yanolja_data_104.csv\n",
      "Updated data saved to ./review\\yanolja_data_105.csv\n",
      "Updated data saved to ./review\\yanolja_data_106.csv\n",
      "Updated data saved to ./review\\yanolja_data_107.csv\n",
      "Updated data saved to ./review\\yanolja_data_108.csv\n",
      "Updated data saved to ./review\\yanolja_data_109.csv\n"
     ]
    }
   ],
   "source": [
    "directory = 'C:/Users/yeonj/OneDrive/바탕 화면/data_crawling/review'\n",
    "\n",
    "for i in range(110):\n",
    "    file_path = os.path.join(directory, f'yanolja_data_{i}.csv')\n",
    "    if os.path.exists(file_path):\n",
    "        try:\n",
    "            df = pd.read_csv(file_path, encoding='utf-8')\n",
    "\n",
    "            df['date'] = df['date'].apply(change_date)\n",
    "\n",
    "\n",
    "            df.to_csv(file_path, index=False, encoding='utf-8')\n",
    "            print(f\"Updated data saved to {file_path}\")\n",
    "        except Exception as e:\n",
    "            print(f\"Error processing file {file_path}: {e}\")\n",
    "    else:\n",
    "        print(f\"File not found: {file_path}\")"
   ]
  },
  {
   "cell_type": "markdown",
   "metadata": {},
   "source": [
    "## 4. 데이터 하나로 합치기"
   ]
  },
  {
   "cell_type": "code",
   "execution_count": null,
   "metadata": {},
   "outputs": [
    {
     "name": "stdout",
     "output_type": "stream",
     "text": [
      "Successfully added data from ./review\\yanolja_data_0.csv\n",
      "Successfully added data from ./review\\yanolja_data_1.csv\n",
      "Successfully added data from ./review\\yanolja_data_2.csv\n",
      "Successfully added data from ./review\\yanolja_data_3.csv\n",
      "Successfully added data from ./review\\yanolja_data_4.csv\n",
      "Successfully added data from ./review\\yanolja_data_5.csv\n",
      "Successfully added data from ./review\\yanolja_data_6.csv\n",
      "Successfully added data from ./review\\yanolja_data_7.csv\n",
      "Successfully added data from ./review\\yanolja_data_8.csv\n",
      "Successfully added data from ./review\\yanolja_data_9.csv\n",
      "Successfully added data from ./review\\yanolja_data_10.csv\n",
      "Successfully added data from ./review\\yanolja_data_11.csv\n",
      "Successfully added data from ./review\\yanolja_data_12.csv\n",
      "Successfully added data from ./review\\yanolja_data_13.csv\n",
      "Successfully added data from ./review\\yanolja_data_14.csv\n",
      "Successfully added data from ./review\\yanolja_data_15.csv\n",
      "Successfully added data from ./review\\yanolja_data_16.csv\n",
      "Successfully added data from ./review\\yanolja_data_17.csv\n",
      "Successfully added data from ./review\\yanolja_data_18.csv\n",
      "Successfully added data from ./review\\yanolja_data_19.csv\n",
      "Successfully added data from ./review\\yanolja_data_20.csv\n",
      "Successfully added data from ./review\\yanolja_data_21.csv\n",
      "Successfully added data from ./review\\yanolja_data_22.csv\n",
      "Successfully added data from ./review\\yanolja_data_23.csv\n",
      "Successfully added data from ./review\\yanolja_data_24.csv\n",
      "Successfully added data from ./review\\yanolja_data_25.csv\n",
      "Successfully added data from ./review\\yanolja_data_26.csv\n",
      "Successfully added data from ./review\\yanolja_data_27.csv\n",
      "Successfully added data from ./review\\yanolja_data_28.csv\n",
      "Successfully added data from ./review\\yanolja_data_29.csv\n",
      "Successfully added data from ./review\\yanolja_data_30.csv\n",
      "Successfully added data from ./review\\yanolja_data_31.csv\n",
      "Successfully added data from ./review\\yanolja_data_32.csv\n",
      "Successfully added data from ./review\\yanolja_data_33.csv\n",
      "Successfully added data from ./review\\yanolja_data_34.csv\n",
      "Successfully added data from ./review\\yanolja_data_35.csv\n",
      "Successfully added data from ./review\\yanolja_data_36.csv\n",
      "Successfully added data from ./review\\yanolja_data_37.csv\n",
      "Successfully added data from ./review\\yanolja_data_38.csv\n",
      "Successfully added data from ./review\\yanolja_data_39.csv\n",
      "Successfully added data from ./review\\yanolja_data_40.csv\n",
      "Successfully added data from ./review\\yanolja_data_41.csv\n",
      "Successfully added data from ./review\\yanolja_data_42.csv\n",
      "Successfully added data from ./review\\yanolja_data_43.csv\n",
      "Successfully added data from ./review\\yanolja_data_44.csv\n",
      "Successfully added data from ./review\\yanolja_data_45.csv\n",
      "Successfully added data from ./review\\yanolja_data_46.csv\n",
      "Successfully added data from ./review\\yanolja_data_47.csv\n",
      "Successfully added data from ./review\\yanolja_data_48.csv\n",
      "Successfully added data from ./review\\yanolja_data_49.csv\n",
      "Successfully added data from ./review\\yanolja_data_50.csv\n",
      "Successfully added data from ./review\\yanolja_data_51.csv\n",
      "Successfully added data from ./review\\yanolja_data_52.csv\n",
      "Successfully added data from ./review\\yanolja_data_53.csv\n",
      "Successfully added data from ./review\\yanolja_data_54.csv\n",
      "Successfully added data from ./review\\yanolja_data_55.csv\n",
      "Successfully added data from ./review\\yanolja_data_56.csv\n",
      "Successfully added data from ./review\\yanolja_data_57.csv\n",
      "Successfully added data from ./review\\yanolja_data_58.csv\n",
      "Successfully added data from ./review\\yanolja_data_59.csv\n",
      "Successfully added data from ./review\\yanolja_data_60.csv\n",
      "Successfully added data from ./review\\yanolja_data_61.csv\n",
      "Successfully added data from ./review\\yanolja_data_62.csv\n",
      "Successfully added data from ./review\\yanolja_data_63.csv\n",
      "Successfully added data from ./review\\yanolja_data_64.csv\n",
      "Successfully added data from ./review\\yanolja_data_65.csv\n",
      "Successfully added data from ./review\\yanolja_data_66.csv\n",
      "Successfully added data from ./review\\yanolja_data_67.csv\n",
      "Successfully added data from ./review\\yanolja_data_68.csv\n",
      "Successfully added data from ./review\\yanolja_data_69.csv\n",
      "Successfully added data from ./review\\yanolja_data_70.csv\n",
      "Successfully added data from ./review\\yanolja_data_71.csv\n",
      "Successfully added data from ./review\\yanolja_data_72.csv\n",
      "Successfully added data from ./review\\yanolja_data_73.csv\n",
      "Successfully added data from ./review\\yanolja_data_74.csv\n",
      "Successfully added data from ./review\\yanolja_data_75.csv\n",
      "Successfully added data from ./review\\yanolja_data_76.csv\n",
      "Successfully added data from ./review\\yanolja_data_77.csv\n",
      "Successfully added data from ./review\\yanolja_data_78.csv\n",
      "Successfully added data from ./review\\yanolja_data_79.csv\n",
      "Successfully added data from ./review\\yanolja_data_80.csv\n",
      "Successfully added data from ./review\\yanolja_data_81.csv\n",
      "Successfully added data from ./review\\yanolja_data_82.csv\n",
      "Successfully added data from ./review\\yanolja_data_83.csv\n",
      "Successfully added data from ./review\\yanolja_data_84.csv\n",
      "Successfully added data from ./review\\yanolja_data_85.csv\n",
      "Successfully added data from ./review\\yanolja_data_86.csv\n",
      "Successfully added data from ./review\\yanolja_data_87.csv\n",
      "Successfully added data from ./review\\yanolja_data_88.csv\n",
      "Successfully added data from ./review\\yanolja_data_89.csv\n",
      "Successfully added data from ./review\\yanolja_data_90.csv\n",
      "Successfully added data from ./review\\yanolja_data_91.csv\n",
      "Successfully added data from ./review\\yanolja_data_92.csv\n",
      "Successfully added data from ./review\\yanolja_data_93.csv\n",
      "Successfully added data from ./review\\yanolja_data_94.csv\n",
      "Successfully added data from ./review\\yanolja_data_95.csv\n",
      "Successfully added data from ./review\\yanolja_data_96.csv\n",
      "Successfully added data from ./review\\yanolja_data_97.csv\n",
      "Successfully added data from ./review\\yanolja_data_98.csv\n",
      "Successfully added data from ./review\\yanolja_data_99.csv\n",
      "Successfully added data from ./review\\yanolja_data_100.csv\n",
      "Successfully added data from ./review\\yanolja_data_101.csv\n",
      "Successfully added data from ./review\\yanolja_data_102.csv\n",
      "Successfully added data from ./review\\yanolja_data_103.csv\n",
      "Successfully added data from ./review\\yanolja_data_104.csv\n",
      "Successfully added data from ./review\\yanolja_data_105.csv\n",
      "Successfully added data from ./review\\yanolja_data_106.csv\n",
      "Successfully added data from ./review\\yanolja_data_107.csv\n",
      "Successfully added data from ./review\\yanolja_data_108.csv\n",
      "Successfully added data from ./review\\yanolja_data_109.csv\n",
      "Combined data saved to ./combined_yanolja_data.csv\n"
     ]
    }
   ],
   "source": [
    "directory = 'C:/Users/yeonj/OneDrive/바탕 화면/data_crawling/review'\n",
    "combined_df = pd.DataFrame()\n",
    "\n",
    "for i in range(110):\n",
    "    file_path = os.path.join(directory, f'yanolja_data_{i}.csv')\n",
    "    if os.path.exists(file_path):\n",
    "        try:\n",
    "            df = pd.read_csv(file_path, encoding='utf-8')\n",
    "            combined_df = pd.concat([combined_df, df], ignore_index=True)\n",
    "            print(f\"Successfully added data from {file_path}\")\n",
    "        except Exception as e:\n",
    "            print(f\"Error reading file {file_path}: {e}\")\n",
    "    else:\n",
    "        print(f\"File not found: {file_path}\")\n",
    "\n",
    "if not combined_df.empty:\n",
    "    output_path = './combined_yanolja_data.csv'\n",
    "    combined_df.to_csv(output_path, index=False, encoding='utf-8')\n",
    "    print(f\"Combined data saved to {output_path}\")\n",
    "else:\n",
    "    print(\"No data to combine.\")"
   ]
  },
  {
   "cell_type": "code",
   "execution_count": null,
   "metadata": {},
   "outputs": [
    {
     "name": "stdout",
     "output_type": "stream",
     "text": [
      "<class 'pandas.core.frame.DataFrame'>\n",
      "RangeIndex: 123684 entries, 0 to 123683\n",
      "Data columns (total 6 columns):\n",
      " #   Column   Non-Null Count   Dtype \n",
      "---  ------   --------------   ----- \n",
      " 0   hotel    123684 non-null  object\n",
      " 1   star     123684 non-null  int64 \n",
      " 2   review   123684 non-null  object\n",
      " 3   date     123684 non-null  object\n",
      " 4   price    123684 non-null  object\n",
      " 5   address  123684 non-null  object\n",
      "dtypes: int64(1), object(5)\n",
      "memory usage: 5.7+ MB\n"
     ]
    }
   ],
   "source": [
    "# CSV 파일 경로\n",
    "output_path = 'C:/Users/yeonj/OneDrive/바탕 화면/data_crawling/combined_yanolja_data.csv'\n",
    "\n",
    "# CSV 파일을 DataFrame으로 불러오기\n",
    "df = pd.read_csv(output_path, encoding='utf-8')\n",
    "\n",
    "# DataFrame 정보 출력\n",
    "df.info()"
   ]
  },
  {
   "cell_type": "code",
   "execution_count": 5,
   "metadata": {},
   "outputs": [
    {
     "data": {
      "text/html": [
       "<div>\n",
       "<style scoped>\n",
       "    .dataframe tbody tr th:only-of-type {\n",
       "        vertical-align: middle;\n",
       "    }\n",
       "\n",
       "    .dataframe tbody tr th {\n",
       "        vertical-align: top;\n",
       "    }\n",
       "\n",
       "    .dataframe thead th {\n",
       "        text-align: right;\n",
       "    }\n",
       "</style>\n",
       "<table border=\"1\" class=\"dataframe\">\n",
       "  <thead>\n",
       "    <tr style=\"text-align: right;\">\n",
       "      <th></th>\n",
       "      <th>hotel</th>\n",
       "      <th>star</th>\n",
       "      <th>review</th>\n",
       "      <th>date</th>\n",
       "      <th>price</th>\n",
       "      <th>address</th>\n",
       "    </tr>\n",
       "  </thead>\n",
       "  <tbody>\n",
       "    <tr>\n",
       "      <th>0</th>\n",
       "      <td>베니키아 테크노밸리호텔</td>\n",
       "      <td>5</td>\n",
       "      <td>좋았어요!! 정말 생각 이상으로 좋았어요!!!분위기좋고 방배정도 2개 예약했는데 센...</td>\n",
       "      <td>2024.02.13</td>\n",
       "      <td>95,000</td>\n",
       "      <td>대전광역시 유성구 테크노중앙로 57</td>\n",
       "    </tr>\n",
       "    <tr>\n",
       "      <th>1</th>\n",
       "      <td>베니키아 테크노밸리호텔</td>\n",
       "      <td>5</td>\n",
       "      <td>아이들이 방학이라 제가 근무하는 대전에 놀러왔는데 제가 머물고 있는 숙소가 너무 덥...</td>\n",
       "      <td>2024.08.17</td>\n",
       "      <td>95,000</td>\n",
       "      <td>대전광역시 유성구 테크노중앙로 57</td>\n",
       "    </tr>\n",
       "    <tr>\n",
       "      <th>2</th>\n",
       "      <td>베니키아 테크노밸리호텔</td>\n",
       "      <td>5</td>\n",
       "      <td>정말 괜찮았어요!!! 분위기도 좋고 침대도 좋고 직원분도 친절해요!! 엘베도 빨라서...</td>\n",
       "      <td>2024.02.13</td>\n",
       "      <td>95,000</td>\n",
       "      <td>대전광역시 유성구 테크노중앙로 57</td>\n",
       "    </tr>\n",
       "    <tr>\n",
       "      <th>3</th>\n",
       "      <td>베니키아 테크노밸리호텔</td>\n",
       "      <td>5</td>\n",
       "      <td>저렴한 가격에 굉장히 편하게 묵고 가요! 직원분들도 굉장히 친절하십니다ㅎㅎ 게다가 ...</td>\n",
       "      <td>2024.05.26</td>\n",
       "      <td>95,000</td>\n",
       "      <td>대전광역시 유성구 테크노중앙로 57</td>\n",
       "    </tr>\n",
       "    <tr>\n",
       "      <th>4</th>\n",
       "      <td>베니키아 테크노밸리호텔</td>\n",
       "      <td>5</td>\n",
       "      <td>매번 청결, 친절 등 전체적으로 만족스러운 호텔이예요 조식도 심플하지만 알찬 구성이...</td>\n",
       "      <td>2024.11.01</td>\n",
       "      <td>95,000</td>\n",
       "      <td>대전광역시 유성구 테크노중앙로 57</td>\n",
       "    </tr>\n",
       "  </tbody>\n",
       "</table>\n",
       "</div>"
      ],
      "text/plain": [
       "          hotel  star                                             review  \\\n",
       "0  베니키아 테크노밸리호텔     5  좋았어요!! 정말 생각 이상으로 좋았어요!!!분위기좋고 방배정도 2개 예약했는데 센...   \n",
       "1  베니키아 테크노밸리호텔     5  아이들이 방학이라 제가 근무하는 대전에 놀러왔는데 제가 머물고 있는 숙소가 너무 덥...   \n",
       "2  베니키아 테크노밸리호텔     5  정말 괜찮았어요!!! 분위기도 좋고 침대도 좋고 직원분도 친절해요!! 엘베도 빨라서...   \n",
       "3  베니키아 테크노밸리호텔     5  저렴한 가격에 굉장히 편하게 묵고 가요! 직원분들도 굉장히 친절하십니다ㅎㅎ 게다가 ...   \n",
       "4  베니키아 테크노밸리호텔     5  매번 청결, 친절 등 전체적으로 만족스러운 호텔이예요 조식도 심플하지만 알찬 구성이...   \n",
       "\n",
       "         date   price              address  \n",
       "0  2024.02.13  95,000  대전광역시 유성구 테크노중앙로 57  \n",
       "1  2024.08.17  95,000  대전광역시 유성구 테크노중앙로 57  \n",
       "2  2024.02.13  95,000  대전광역시 유성구 테크노중앙로 57  \n",
       "3  2024.05.26  95,000  대전광역시 유성구 테크노중앙로 57  \n",
       "4  2024.11.01  95,000  대전광역시 유성구 테크노중앙로 57  "
      ]
     },
     "execution_count": 5,
     "metadata": {},
     "output_type": "execute_result"
    }
   ],
   "source": [
    "df.head()"
   ]
  },
  {
   "cell_type": "markdown",
   "metadata": {},
   "source": [
    "유성구, 서구, 대덕구, 중구, 동구로 구 나누기"
   ]
  },
  {
   "cell_type": "code",
   "execution_count": 6,
   "metadata": {},
   "outputs": [],
   "source": [
    "import numpy as np\n",
    "\n",
    "# 구 이름을 추출하는 함수 정의\n",
    "def extract_district(address):\n",
    "    if \"유성구\" in address:\n",
    "        return \"유성구\"\n",
    "    elif \"동구\" in address:\n",
    "        return \"동구\"\n",
    "    elif \"서구\" in address:\n",
    "        return \"서구\"\n",
    "    elif \"중구\" in address:\n",
    "        return \"중구\"\n",
    "    elif \"대덕구\" in address:\n",
    "        return \"대덕구\"\n",
    "    else:\n",
    "        return np.nan  # null 값을 나타내기 위해 NaN 사용\n",
    "\n",
    "# DataFrame df에 새로운 열 'district' 추가\n",
    "df['district'] = df['address'].apply(extract_district)"
   ]
  },
  {
   "cell_type": "code",
   "execution_count": 7,
   "metadata": {},
   "outputs": [
    {
     "name": "stdout",
     "output_type": "stream",
     "text": [
      "<class 'pandas.core.frame.DataFrame'>\n",
      "RangeIndex: 123684 entries, 0 to 123683\n",
      "Data columns (total 7 columns):\n",
      " #   Column    Non-Null Count   Dtype \n",
      "---  ------    --------------   ----- \n",
      " 0   hotel     123684 non-null  object\n",
      " 1   star      123684 non-null  int64 \n",
      " 2   review    123684 non-null  object\n",
      " 3   date      123684 non-null  object\n",
      " 4   price     123684 non-null  object\n",
      " 5   address   123684 non-null  object\n",
      " 6   district  123684 non-null  object\n",
      "dtypes: int64(1), object(6)\n",
      "memory usage: 6.6+ MB\n"
     ]
    }
   ],
   "source": [
    "df.info()"
   ]
  },
  {
   "cell_type": "code",
   "execution_count": 8,
   "metadata": {},
   "outputs": [
    {
     "data": {
      "text/html": [
       "<div>\n",
       "<style scoped>\n",
       "    .dataframe tbody tr th:only-of-type {\n",
       "        vertical-align: middle;\n",
       "    }\n",
       "\n",
       "    .dataframe tbody tr th {\n",
       "        vertical-align: top;\n",
       "    }\n",
       "\n",
       "    .dataframe thead th {\n",
       "        text-align: right;\n",
       "    }\n",
       "</style>\n",
       "<table border=\"1\" class=\"dataframe\">\n",
       "  <thead>\n",
       "    <tr style=\"text-align: right;\">\n",
       "      <th></th>\n",
       "      <th>hotel</th>\n",
       "      <th>star</th>\n",
       "      <th>review</th>\n",
       "      <th>date</th>\n",
       "      <th>price</th>\n",
       "      <th>address</th>\n",
       "      <th>district</th>\n",
       "    </tr>\n",
       "  </thead>\n",
       "  <tbody>\n",
       "    <tr>\n",
       "      <th>0</th>\n",
       "      <td>베니키아 테크노밸리호텔</td>\n",
       "      <td>5</td>\n",
       "      <td>좋았어요!! 정말 생각 이상으로 좋았어요!!!분위기좋고 방배정도 2개 예약했는데 센...</td>\n",
       "      <td>2024.02.13</td>\n",
       "      <td>95,000</td>\n",
       "      <td>대전광역시 유성구 테크노중앙로 57</td>\n",
       "      <td>유성구</td>\n",
       "    </tr>\n",
       "    <tr>\n",
       "      <th>1</th>\n",
       "      <td>베니키아 테크노밸리호텔</td>\n",
       "      <td>5</td>\n",
       "      <td>아이들이 방학이라 제가 근무하는 대전에 놀러왔는데 제가 머물고 있는 숙소가 너무 덥...</td>\n",
       "      <td>2024.08.17</td>\n",
       "      <td>95,000</td>\n",
       "      <td>대전광역시 유성구 테크노중앙로 57</td>\n",
       "      <td>유성구</td>\n",
       "    </tr>\n",
       "    <tr>\n",
       "      <th>2</th>\n",
       "      <td>베니키아 테크노밸리호텔</td>\n",
       "      <td>5</td>\n",
       "      <td>정말 괜찮았어요!!! 분위기도 좋고 침대도 좋고 직원분도 친절해요!! 엘베도 빨라서...</td>\n",
       "      <td>2024.02.13</td>\n",
       "      <td>95,000</td>\n",
       "      <td>대전광역시 유성구 테크노중앙로 57</td>\n",
       "      <td>유성구</td>\n",
       "    </tr>\n",
       "    <tr>\n",
       "      <th>3</th>\n",
       "      <td>베니키아 테크노밸리호텔</td>\n",
       "      <td>5</td>\n",
       "      <td>저렴한 가격에 굉장히 편하게 묵고 가요! 직원분들도 굉장히 친절하십니다ㅎㅎ 게다가 ...</td>\n",
       "      <td>2024.05.26</td>\n",
       "      <td>95,000</td>\n",
       "      <td>대전광역시 유성구 테크노중앙로 57</td>\n",
       "      <td>유성구</td>\n",
       "    </tr>\n",
       "    <tr>\n",
       "      <th>4</th>\n",
       "      <td>베니키아 테크노밸리호텔</td>\n",
       "      <td>5</td>\n",
       "      <td>매번 청결, 친절 등 전체적으로 만족스러운 호텔이예요 조식도 심플하지만 알찬 구성이...</td>\n",
       "      <td>2024.11.01</td>\n",
       "      <td>95,000</td>\n",
       "      <td>대전광역시 유성구 테크노중앙로 57</td>\n",
       "      <td>유성구</td>\n",
       "    </tr>\n",
       "  </tbody>\n",
       "</table>\n",
       "</div>"
      ],
      "text/plain": [
       "          hotel  star                                             review  \\\n",
       "0  베니키아 테크노밸리호텔     5  좋았어요!! 정말 생각 이상으로 좋았어요!!!분위기좋고 방배정도 2개 예약했는데 센...   \n",
       "1  베니키아 테크노밸리호텔     5  아이들이 방학이라 제가 근무하는 대전에 놀러왔는데 제가 머물고 있는 숙소가 너무 덥...   \n",
       "2  베니키아 테크노밸리호텔     5  정말 괜찮았어요!!! 분위기도 좋고 침대도 좋고 직원분도 친절해요!! 엘베도 빨라서...   \n",
       "3  베니키아 테크노밸리호텔     5  저렴한 가격에 굉장히 편하게 묵고 가요! 직원분들도 굉장히 친절하십니다ㅎㅎ 게다가 ...   \n",
       "4  베니키아 테크노밸리호텔     5  매번 청결, 친절 등 전체적으로 만족스러운 호텔이예요 조식도 심플하지만 알찬 구성이...   \n",
       "\n",
       "         date   price              address district  \n",
       "0  2024.02.13  95,000  대전광역시 유성구 테크노중앙로 57      유성구  \n",
       "1  2024.08.17  95,000  대전광역시 유성구 테크노중앙로 57      유성구  \n",
       "2  2024.02.13  95,000  대전광역시 유성구 테크노중앙로 57      유성구  \n",
       "3  2024.05.26  95,000  대전광역시 유성구 테크노중앙로 57      유성구  \n",
       "4  2024.11.01  95,000  대전광역시 유성구 테크노중앙로 57      유성구  "
      ]
     },
     "execution_count": 8,
     "metadata": {},
     "output_type": "execute_result"
    }
   ],
   "source": [
    "df.head()"
   ]
  },
  {
   "cell_type": "code",
   "execution_count": 9,
   "metadata": {},
   "outputs": [
    {
     "data": {
      "text/plain": [
       "district\n",
       "유성구    81371\n",
       "서구     27588\n",
       "동구     10384\n",
       "중구      2720\n",
       "대덕구     1621\n",
       "Name: count, dtype: int64"
      ]
     },
     "execution_count": 9,
     "metadata": {},
     "output_type": "execute_result"
    }
   ],
   "source": [
    "df['district'].value_counts()"
   ]
  },
  {
   "cell_type": "code",
   "execution_count": null,
   "metadata": {},
   "outputs": [],
   "source": [
    "df.to_csv('C:/Users/yeonj/OneDrive/바탕 화면/data_crawling/preprocessing_data/combined_yanolja_data.csv', index=False, encoding='utf-8')"
   ]
  },
  {
   "cell_type": "code",
   "execution_count": null,
   "metadata": {},
   "outputs": [],
   "source": []
  }
 ],
 "metadata": {
  "kernelspec": {
   "display_name": "Python 3",
   "language": "python",
   "name": "python3"
  },
  "language_info": {
   "codemirror_mode": {
    "name": "ipython",
    "version": 3
   },
   "file_extension": ".py",
   "mimetype": "text/x-python",
   "name": "python",
   "nbconvert_exporter": "python",
   "pygments_lexer": "ipython3",
   "version": "3.12.6"
  }
 },
 "nbformat": 4,
 "nbformat_minor": 2
}
