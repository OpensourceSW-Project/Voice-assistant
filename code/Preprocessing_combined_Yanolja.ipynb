{
 "cells": [
  {
   "cell_type": "markdown",
   "metadata": {},
   "source": [
    "## 전처리(전체데이터)"
   ]
  },
  {
   "cell_type": "markdown",
   "metadata": {},
   "source": [
    "전처리 항목\n",
    "1. 특수문자제거\n",
    "2. 의미없는 자음, 모음 제거\n",
    "3. 이모티콘 제거\n",
    "4. 맞춤법 고치기"
   ]
  },
  {
   "cell_type": "markdown",
   "metadata": {},
   "source": [
    "## 1. 특수문자제거"
   ]
  },
  {
   "cell_type": "code",
   "execution_count": 1,
   "metadata": {},
   "outputs": [],
   "source": [
    "import pandas as pd"
   ]
  },
  {
   "cell_type": "code",
   "execution_count": null,
   "metadata": {},
   "outputs": [
    {
     "data": {
      "text/html": [
       "<div>\n",
       "<style scoped>\n",
       "    .dataframe tbody tr th:only-of-type {\n",
       "        vertical-align: middle;\n",
       "    }\n",
       "\n",
       "    .dataframe tbody tr th {\n",
       "        vertical-align: top;\n",
       "    }\n",
       "\n",
       "    .dataframe thead th {\n",
       "        text-align: right;\n",
       "    }\n",
       "</style>\n",
       "<table border=\"1\" class=\"dataframe\">\n",
       "  <thead>\n",
       "    <tr style=\"text-align: right;\">\n",
       "      <th></th>\n",
       "      <th>hotel</th>\n",
       "      <th>star</th>\n",
       "      <th>review</th>\n",
       "      <th>date</th>\n",
       "      <th>price</th>\n",
       "      <th>address</th>\n",
       "      <th>district</th>\n",
       "    </tr>\n",
       "  </thead>\n",
       "  <tbody>\n",
       "    <tr>\n",
       "      <th>0</th>\n",
       "      <td>베니키아 테크노밸리호텔</td>\n",
       "      <td>5</td>\n",
       "      <td>좋았어요!! 정말 생각 이상으로 좋았어요!!!분위기좋고 방배정도 2개 예약했는데 센...</td>\n",
       "      <td>2024.02.13</td>\n",
       "      <td>95,000</td>\n",
       "      <td>대전광역시 유성구 테크노중앙로 57</td>\n",
       "      <td>유성구</td>\n",
       "    </tr>\n",
       "    <tr>\n",
       "      <th>1</th>\n",
       "      <td>베니키아 테크노밸리호텔</td>\n",
       "      <td>5</td>\n",
       "      <td>아이들이 방학이라 제가 근무하는 대전에 놀러왔는데 제가 머물고 있는 숙소가 너무 덥...</td>\n",
       "      <td>2024.08.17</td>\n",
       "      <td>95,000</td>\n",
       "      <td>대전광역시 유성구 테크노중앙로 57</td>\n",
       "      <td>유성구</td>\n",
       "    </tr>\n",
       "    <tr>\n",
       "      <th>2</th>\n",
       "      <td>베니키아 테크노밸리호텔</td>\n",
       "      <td>5</td>\n",
       "      <td>정말 괜찮았어요!!! 분위기도 좋고 침대도 좋고 직원분도 친절해요!! 엘베도 빨라서...</td>\n",
       "      <td>2024.02.13</td>\n",
       "      <td>95,000</td>\n",
       "      <td>대전광역시 유성구 테크노중앙로 57</td>\n",
       "      <td>유성구</td>\n",
       "    </tr>\n",
       "    <tr>\n",
       "      <th>3</th>\n",
       "      <td>베니키아 테크노밸리호텔</td>\n",
       "      <td>5</td>\n",
       "      <td>저렴한 가격에 굉장히 편하게 묵고 가요! 직원분들도 굉장히 친절하십니다ㅎㅎ 게다가 ...</td>\n",
       "      <td>2024.05.26</td>\n",
       "      <td>95,000</td>\n",
       "      <td>대전광역시 유성구 테크노중앙로 57</td>\n",
       "      <td>유성구</td>\n",
       "    </tr>\n",
       "    <tr>\n",
       "      <th>4</th>\n",
       "      <td>베니키아 테크노밸리호텔</td>\n",
       "      <td>5</td>\n",
       "      <td>매번 청결, 친절 등 전체적으로 만족스러운 호텔이예요 조식도 심플하지만 알찬 구성이...</td>\n",
       "      <td>2024.11.01</td>\n",
       "      <td>95,000</td>\n",
       "      <td>대전광역시 유성구 테크노중앙로 57</td>\n",
       "      <td>유성구</td>\n",
       "    </tr>\n",
       "  </tbody>\n",
       "</table>\n",
       "</div>"
      ],
      "text/plain": [
       "          hotel  star                                             review  \\\n",
       "0  베니키아 테크노밸리호텔     5  좋았어요!! 정말 생각 이상으로 좋았어요!!!분위기좋고 방배정도 2개 예약했는데 센...   \n",
       "1  베니키아 테크노밸리호텔     5  아이들이 방학이라 제가 근무하는 대전에 놀러왔는데 제가 머물고 있는 숙소가 너무 덥...   \n",
       "2  베니키아 테크노밸리호텔     5  정말 괜찮았어요!!! 분위기도 좋고 침대도 좋고 직원분도 친절해요!! 엘베도 빨라서...   \n",
       "3  베니키아 테크노밸리호텔     5  저렴한 가격에 굉장히 편하게 묵고 가요! 직원분들도 굉장히 친절하십니다ㅎㅎ 게다가 ...   \n",
       "4  베니키아 테크노밸리호텔     5  매번 청결, 친절 등 전체적으로 만족스러운 호텔이예요 조식도 심플하지만 알찬 구성이...   \n",
       "\n",
       "         date   price              address district  \n",
       "0  2024.02.13  95,000  대전광역시 유성구 테크노중앙로 57      유성구  \n",
       "1  2024.08.17  95,000  대전광역시 유성구 테크노중앙로 57      유성구  \n",
       "2  2024.02.13  95,000  대전광역시 유성구 테크노중앙로 57      유성구  \n",
       "3  2024.05.26  95,000  대전광역시 유성구 테크노중앙로 57      유성구  \n",
       "4  2024.11.01  95,000  대전광역시 유성구 테크노중앙로 57      유성구  "
      ]
     },
     "execution_count": 2,
     "metadata": {},
     "output_type": "execute_result"
    }
   ],
   "source": [
    "df = pd.read_csv('C:/Users/yeonj/OneDrive/바탕 화면/data_crawling/data/combined_yanolja_data.csv', encoding='utf-8')\n",
    "\n",
    "df.head()"
   ]
  },
  {
   "cell_type": "code",
   "execution_count": 3,
   "metadata": {},
   "outputs": [
    {
     "data": {
      "text/plain": [
       "0    좋았어요!! 정말 생각 이상으로 좋았어요!!!분위기좋고 방배정도 2개 예약했는데 센...\n",
       "1    아이들이 방학이라 제가 근무하는 대전에 놀러왔는데 제가 머물고 있는 숙소가 너무 덥...\n",
       "2    정말 괜찮았어요!!! 분위기도 좋고 침대도 좋고 직원분도 친절해요!! 엘베도 빨라서...\n",
       "3    저렴한 가격에 굉장히 편하게 묵고 가요! 직원분들도 굉장히 친절하십니다ㅎㅎ 게다가 ...\n",
       "4    매번 청결, 친절 등 전체적으로 만족스러운 호텔이예요 조식도 심플하지만 알찬 구성이...\n",
       "Name: review, dtype: object"
      ]
     },
     "execution_count": 3,
     "metadata": {},
     "output_type": "execute_result"
    }
   ],
   "source": [
    "df['review'] = df['review'].apply(lambda x: x.replace('\\n',''))\n",
    "df['review'].head()"
   ]
  },
  {
   "cell_type": "code",
   "execution_count": 4,
   "metadata": {},
   "outputs": [
    {
     "data": {
      "text/plain": [
       "0    좋았어요 정말 생각 이상으로 좋았어요분위기좋고 방배정도 2개 예약했는데 센스있게 잡...\n",
       "1    아이들이 방학이라 제가 근무하는 대전에 놀러왔는데 제가 머물고 있는 숙소가 너무 덥...\n",
       "2    정말 괜찮았어요 분위기도 좋고 침대도 좋고 직원분도 친절해요 엘베도 빨라서 편했습니...\n",
       "3    저렴한 가격에 굉장히 편하게 묵고 가요 직원분들도 굉장히 친절하십니다ㅎㅎ 게다가 룸...\n",
       "4    매번 청결 친절 등 전체적으로 만족스러운 호텔이예요 조식도 심플하지만 알찬 구성이라...\n",
       "Name: review, dtype: object"
      ]
     },
     "execution_count": 4,
     "metadata": {},
     "output_type": "execute_result"
    }
   ],
   "source": [
    "import re\n",
    "\n",
    "def cleanText(readData):\n",
    "    text = re.sub(r'[-=+,#/\\?:;^$.@*\\\"※~&%ㆍ!』\\\\‘|\\(\\)\\[\\]\\<\\>`\\'…》❤⭐️\\r]', '', readData)\n",
    "    return text\n",
    "\n",
    "df['review'] = df['review'].apply(cleanText)\n",
    "df['review'].head()"
   ]
  },
  {
   "cell_type": "code",
   "execution_count": 5,
   "metadata": {},
   "outputs": [
    {
     "data": {
      "text/plain": [
       "0    좋았어요 정말 생각 이상으로 좋았어요분위기좋고 방배정도 2개 예약했는데 센스있게 잡...\n",
       "1    아이들이 방학이라 제가 근무하는 대전에 놀러왔는데 제가 머물고 있는 숙소가 너무 덥...\n",
       "2    정말 괜찮았어요 분위기도 좋고 침대도 좋고 직원분도 친절해요 엘베도 빨라서 편했습니...\n",
       "3    저렴한 가격에 굉장히 편하게 묵고 가요 직원분들도 굉장히 친절하십니다 게다가 룸 업...\n",
       "4    매번 청결 친절 등 전체적으로 만족스러운 호텔이예요 조식도 심플하지만 알찬 구성이라...\n",
       "Name: review, dtype: object"
      ]
     },
     "execution_count": 5,
     "metadata": {},
     "output_type": "execute_result"
    }
   ],
   "source": [
    "def cleanText2(readData):\n",
    " \n",
    "    text = re.sub('[ㄱㄴㄷㄹㅁㅂㅅㅇㅈㅊㅋㅌㅍㅎㅃㅉㄸㄲㅆㅛㅕㅑㅐㅔㅗㅓㅏㅣㅜㅠㅡ]', '', readData)\n",
    "    return text\n",
    "df['review'] = df['review'].apply(cleanText2)\n",
    "df['review'].head()"
   ]
  },
  {
   "cell_type": "code",
   "execution_count": 6,
   "metadata": {},
   "outputs": [
    {
     "data": {
      "text/plain": [
       "0         좋았어요 정말 생각 이상으로 좋았어요분위기좋고 방배정도 2개 예약했는데 센스있게 잡...\n",
       "1         아이들이 방학이라 제가 근무하는 대전에 놀러왔는데 제가 머물고 있는 숙소가 너무 덥...\n",
       "2         정말 괜찮았어요 분위기도 좋고 침대도 좋고 직원분도 친절해요 엘베도 빨라서 편했습니...\n",
       "3         저렴한 가격에 굉장히 편하게 묵고 가요 직원분들도 굉장히 친절하십니다 게다가 룸 업...\n",
       "4         매번 청결 친절 등 전체적으로 만족스러운 호텔이예요 조식도 심플하지만 알찬 구성이라...\n",
       "                                ...                        \n",
       "123679                                 합리적인가격에 편히 깔끔하게있다갑니다\n",
       "123680                                                맘에듭니다\n",
       "123681                   5000원 할인되서 되게싸게 갔어요가격대비 편안하고 좋았습니당\n",
       "123682                                            잘 머물다왔습니다\n",
       "123683                                             깨끗 친절 좋음\n",
       "Name: review, Length: 123684, dtype: object"
      ]
     },
     "execution_count": 6,
     "metadata": {},
     "output_type": "execute_result"
    }
   ],
   "source": [
    "def cleanText3(readData):\n",
    "    \n",
    "    emoji_pattern = re.compile(\"[\"\n",
    "        u\"\\U0001F600-\\U0001F64F\"  # emoticons\n",
    "        u\"\\U0001F300-\\U0001F5FF\"  # symbols & pictographs\n",
    "        u\"\\U0001F680-\\U0001F6FF\"  # transport & map symbols\n",
    "        u\"\\U0001F1E0-\\U0001F1FF\"  # flags (iOS)\n",
    "                           \"]+\", flags=re.UNICODE)\n",
    "\n",
    "    text = emoji_pattern.sub(r'', readData)\n",
    "    return text\n",
    "\n",
    "df['review'] = df['review'].apply(cleanText3)\n",
    "df['review']"
   ]
  },
  {
   "cell_type": "code",
   "execution_count": 7,
   "metadata": {},
   "outputs": [
    {
     "data": {
      "text/html": [
       "<div>\n",
       "<style scoped>\n",
       "    .dataframe tbody tr th:only-of-type {\n",
       "        vertical-align: middle;\n",
       "    }\n",
       "\n",
       "    .dataframe tbody tr th {\n",
       "        vertical-align: top;\n",
       "    }\n",
       "\n",
       "    .dataframe thead th {\n",
       "        text-align: right;\n",
       "    }\n",
       "</style>\n",
       "<table border=\"1\" class=\"dataframe\">\n",
       "  <thead>\n",
       "    <tr style=\"text-align: right;\">\n",
       "      <th></th>\n",
       "      <th>hotel</th>\n",
       "      <th>star</th>\n",
       "      <th>review</th>\n",
       "      <th>date</th>\n",
       "      <th>price</th>\n",
       "      <th>address</th>\n",
       "      <th>district</th>\n",
       "      <th>length</th>\n",
       "    </tr>\n",
       "  </thead>\n",
       "  <tbody>\n",
       "    <tr>\n",
       "      <th>0</th>\n",
       "      <td>베니키아 테크노밸리호텔</td>\n",
       "      <td>5</td>\n",
       "      <td>좋았어요 정말 생각 이상으로 좋았어요분위기좋고 방배정도 2개 예약했는데 센스있게 잡...</td>\n",
       "      <td>2024.02.13</td>\n",
       "      <td>95,000</td>\n",
       "      <td>대전광역시 유성구 테크노중앙로 57</td>\n",
       "      <td>유성구</td>\n",
       "      <td>140</td>\n",
       "    </tr>\n",
       "    <tr>\n",
       "      <th>1</th>\n",
       "      <td>베니키아 테크노밸리호텔</td>\n",
       "      <td>5</td>\n",
       "      <td>아이들이 방학이라 제가 근무하는 대전에 놀러왔는데 제가 머물고 있는 숙소가 너무 덥...</td>\n",
       "      <td>2024.08.17</td>\n",
       "      <td>95,000</td>\n",
       "      <td>대전광역시 유성구 테크노중앙로 57</td>\n",
       "      <td>유성구</td>\n",
       "      <td>159</td>\n",
       "    </tr>\n",
       "    <tr>\n",
       "      <th>2</th>\n",
       "      <td>베니키아 테크노밸리호텔</td>\n",
       "      <td>5</td>\n",
       "      <td>정말 괜찮았어요 분위기도 좋고 침대도 좋고 직원분도 친절해요 엘베도 빨라서 편했습니...</td>\n",
       "      <td>2024.02.13</td>\n",
       "      <td>95,000</td>\n",
       "      <td>대전광역시 유성구 테크노중앙로 57</td>\n",
       "      <td>유성구</td>\n",
       "      <td>132</td>\n",
       "    </tr>\n",
       "    <tr>\n",
       "      <th>3</th>\n",
       "      <td>베니키아 테크노밸리호텔</td>\n",
       "      <td>5</td>\n",
       "      <td>저렴한 가격에 굉장히 편하게 묵고 가요 직원분들도 굉장히 친절하십니다 게다가 룸 업...</td>\n",
       "      <td>2024.05.26</td>\n",
       "      <td>95,000</td>\n",
       "      <td>대전광역시 유성구 테크노중앙로 57</td>\n",
       "      <td>유성구</td>\n",
       "      <td>119</td>\n",
       "    </tr>\n",
       "    <tr>\n",
       "      <th>4</th>\n",
       "      <td>베니키아 테크노밸리호텔</td>\n",
       "      <td>5</td>\n",
       "      <td>매번 청결 친절 등 전체적으로 만족스러운 호텔이예요 조식도 심플하지만 알찬 구성이라...</td>\n",
       "      <td>2024.11.01</td>\n",
       "      <td>95,000</td>\n",
       "      <td>대전광역시 유성구 테크노중앙로 57</td>\n",
       "      <td>유성구</td>\n",
       "      <td>50</td>\n",
       "    </tr>\n",
       "  </tbody>\n",
       "</table>\n",
       "</div>"
      ],
      "text/plain": [
       "          hotel  star                                             review  \\\n",
       "0  베니키아 테크노밸리호텔     5  좋았어요 정말 생각 이상으로 좋았어요분위기좋고 방배정도 2개 예약했는데 센스있게 잡...   \n",
       "1  베니키아 테크노밸리호텔     5  아이들이 방학이라 제가 근무하는 대전에 놀러왔는데 제가 머물고 있는 숙소가 너무 덥...   \n",
       "2  베니키아 테크노밸리호텔     5  정말 괜찮았어요 분위기도 좋고 침대도 좋고 직원분도 친절해요 엘베도 빨라서 편했습니...   \n",
       "3  베니키아 테크노밸리호텔     5  저렴한 가격에 굉장히 편하게 묵고 가요 직원분들도 굉장히 친절하십니다 게다가 룸 업...   \n",
       "4  베니키아 테크노밸리호텔     5  매번 청결 친절 등 전체적으로 만족스러운 호텔이예요 조식도 심플하지만 알찬 구성이라...   \n",
       "\n",
       "         date   price              address district  length  \n",
       "0  2024.02.13  95,000  대전광역시 유성구 테크노중앙로 57      유성구     140  \n",
       "1  2024.08.17  95,000  대전광역시 유성구 테크노중앙로 57      유성구     159  \n",
       "2  2024.02.13  95,000  대전광역시 유성구 테크노중앙로 57      유성구     132  \n",
       "3  2024.05.26  95,000  대전광역시 유성구 테크노중앙로 57      유성구     119  \n",
       "4  2024.11.01  95,000  대전광역시 유성구 테크노중앙로 57      유성구      50  "
      ]
     },
     "execution_count": 7,
     "metadata": {},
     "output_type": "execute_result"
    }
   ],
   "source": [
    "df['length'] = df['review'].apply(len)\n",
    "df.head()"
   ]
  },
  {
   "cell_type": "markdown",
   "metadata": {},
   "source": [
    "## 4. 맞춤법 고치기\n",
    "\n",
    "네이버 맞춤법 검사기를 이용하기 때문에 글자수가 500이 넘어가는건 버린다."
   ]
  },
  {
   "cell_type": "code",
   "execution_count": 8,
   "metadata": {},
   "outputs": [
    {
     "data": {
      "text/plain": [
       "(178, 8)"
      ]
     },
     "execution_count": 8,
     "metadata": {},
     "output_type": "execute_result"
    }
   ],
   "source": [
    "df[df['length'] > 500].shape"
   ]
  },
  {
   "cell_type": "code",
   "execution_count": 9,
   "metadata": {},
   "outputs": [
    {
     "data": {
      "text/plain": [
       "(123506, 8)"
      ]
     },
     "execution_count": 9,
     "metadata": {},
     "output_type": "execute_result"
    }
   ],
   "source": [
    "df = df[df['length'] <= 500]\n",
    "df.shape"
   ]
  },
  {
   "cell_type": "markdown",
   "metadata": {},
   "source": [
    "맞춤법 검사기 링크 : https://github.com/ssut/py-hanspell\n",
    "\n",
    "1. git.clone 받기\n",
    "2. cmd창에 python setup.py install\n",
    "3. cmd창에 pip install py-hanspell"
   ]
  },
  {
   "cell_type": "code",
   "execution_count": 18,
   "metadata": {},
   "outputs": [
    {
     "name": "stdout",
     "output_type": "stream",
     "text": [
      "Collecting setuptools\n",
      "  Using cached setuptools-75.5.0-py3-none-any.whl.metadata (6.8 kB)\n",
      "Using cached setuptools-75.5.0-py3-none-any.whl (1.2 MB)\n",
      "Installing collected packages: setuptools\n",
      "Successfully installed setuptools-75.5.0\n"
     ]
    },
    {
     "name": "stderr",
     "output_type": "stream",
     "text": [
      "\n",
      "[notice] A new release of pip is available: 24.2 -> 24.3.1\n",
      "[notice] To update, run: python.exe -m pip install --upgrade pip\n"
     ]
    }
   ],
   "source": [
    "!pip install setuptools"
   ]
  },
  {
   "cell_type": "code",
   "execution_count": 10,
   "metadata": {},
   "outputs": [],
   "source": [
    "from hanspell import spell_checker\n",
    "\n",
    "def spell_check(review):\n",
    "    try:\n",
    "        result = spell_checker.check(review)\n",
    "        print(result)  # 응답 데이터를 출력해서 확인\n",
    "        if 'result' in result:\n",
    "            return result.checked\n",
    "        else:\n",
    "            return review\n",
    "    except Exception as e:\n",
    "        return review"
   ]
  },
  {
   "cell_type": "code",
   "execution_count": 11,
   "metadata": {},
   "outputs": [],
   "source": [
    "df['review']=df['review'].astype('str')"
   ]
  },
  {
   "cell_type": "code",
   "execution_count": 30,
   "metadata": {},
   "outputs": [],
   "source": [
    "df['review_spell_check'] = df['review'].apply(spell_check)"
   ]
  },
  {
   "cell_type": "code",
   "execution_count": 31,
   "metadata": {},
   "outputs": [
    {
     "data": {
      "text/html": [
       "<div>\n",
       "<style scoped>\n",
       "    .dataframe tbody tr th:only-of-type {\n",
       "        vertical-align: middle;\n",
       "    }\n",
       "\n",
       "    .dataframe tbody tr th {\n",
       "        vertical-align: top;\n",
       "    }\n",
       "\n",
       "    .dataframe thead th {\n",
       "        text-align: right;\n",
       "    }\n",
       "</style>\n",
       "<table border=\"1\" class=\"dataframe\">\n",
       "  <thead>\n",
       "    <tr style=\"text-align: right;\">\n",
       "      <th></th>\n",
       "      <th>hotel</th>\n",
       "      <th>star</th>\n",
       "      <th>review</th>\n",
       "      <th>date</th>\n",
       "      <th>price</th>\n",
       "      <th>address</th>\n",
       "      <th>district</th>\n",
       "      <th>length</th>\n",
       "      <th>review_spell_check</th>\n",
       "    </tr>\n",
       "  </thead>\n",
       "  <tbody>\n",
       "    <tr>\n",
       "      <th>0</th>\n",
       "      <td>베니키아 테크노밸리호텔</td>\n",
       "      <td>5</td>\n",
       "      <td>좋았어요 정말 생각 이상으로 좋았어요분위기좋고 방배정도 2개 예약했는데 센스있게 잡...</td>\n",
       "      <td>2024.02.13</td>\n",
       "      <td>95,000</td>\n",
       "      <td>대전광역시 유성구 테크노중앙로 57</td>\n",
       "      <td>유성구</td>\n",
       "      <td>140</td>\n",
       "      <td>좋았어요 정말 생각 이상으로 좋았어요분위기좋고 방배정도 2개 예약했는데 센스있게 잡...</td>\n",
       "    </tr>\n",
       "    <tr>\n",
       "      <th>1</th>\n",
       "      <td>베니키아 테크노밸리호텔</td>\n",
       "      <td>5</td>\n",
       "      <td>아이들이 방학이라 제가 근무하는 대전에 놀러왔는데 제가 머물고 있는 숙소가 너무 덥...</td>\n",
       "      <td>2024.08.17</td>\n",
       "      <td>95,000</td>\n",
       "      <td>대전광역시 유성구 테크노중앙로 57</td>\n",
       "      <td>유성구</td>\n",
       "      <td>159</td>\n",
       "      <td>아이들이 방학이라 제가 근무하는 대전에 놀러왔는데 제가 머물고 있는 숙소가 너무 덥...</td>\n",
       "    </tr>\n",
       "    <tr>\n",
       "      <th>2</th>\n",
       "      <td>베니키아 테크노밸리호텔</td>\n",
       "      <td>5</td>\n",
       "      <td>정말 괜찮았어요 분위기도 좋고 침대도 좋고 직원분도 친절해요 엘베도 빨라서 편했습니...</td>\n",
       "      <td>2024.02.13</td>\n",
       "      <td>95,000</td>\n",
       "      <td>대전광역시 유성구 테크노중앙로 57</td>\n",
       "      <td>유성구</td>\n",
       "      <td>132</td>\n",
       "      <td>정말 괜찮았어요 분위기도 좋고 침대도 좋고 직원분도 친절해요 엘베도 빨라서 편했습니...</td>\n",
       "    </tr>\n",
       "    <tr>\n",
       "      <th>3</th>\n",
       "      <td>베니키아 테크노밸리호텔</td>\n",
       "      <td>5</td>\n",
       "      <td>저렴한 가격에 굉장히 편하게 묵고 가요 직원분들도 굉장히 친절하십니다 게다가 룸 업...</td>\n",
       "      <td>2024.05.26</td>\n",
       "      <td>95,000</td>\n",
       "      <td>대전광역시 유성구 테크노중앙로 57</td>\n",
       "      <td>유성구</td>\n",
       "      <td>119</td>\n",
       "      <td>저렴한 가격에 굉장히 편하게 묵고 가요 직원분들도 굉장히 친절하십니다 게다가 룸 업...</td>\n",
       "    </tr>\n",
       "    <tr>\n",
       "      <th>4</th>\n",
       "      <td>베니키아 테크노밸리호텔</td>\n",
       "      <td>5</td>\n",
       "      <td>매번 청결 친절 등 전체적으로 만족스러운 호텔이예요 조식도 심플하지만 알찬 구성이라...</td>\n",
       "      <td>2024.11.01</td>\n",
       "      <td>95,000</td>\n",
       "      <td>대전광역시 유성구 테크노중앙로 57</td>\n",
       "      <td>유성구</td>\n",
       "      <td>50</td>\n",
       "      <td>매번 청결 친절 등 전체적으로 만족스러운 호텔이예요 조식도 심플하지만 알찬 구성이라...</td>\n",
       "    </tr>\n",
       "  </tbody>\n",
       "</table>\n",
       "</div>"
      ],
      "text/plain": [
       "          hotel  star                                             review  \\\n",
       "0  베니키아 테크노밸리호텔     5  좋았어요 정말 생각 이상으로 좋았어요분위기좋고 방배정도 2개 예약했는데 센스있게 잡...   \n",
       "1  베니키아 테크노밸리호텔     5  아이들이 방학이라 제가 근무하는 대전에 놀러왔는데 제가 머물고 있는 숙소가 너무 덥...   \n",
       "2  베니키아 테크노밸리호텔     5  정말 괜찮았어요 분위기도 좋고 침대도 좋고 직원분도 친절해요 엘베도 빨라서 편했습니...   \n",
       "3  베니키아 테크노밸리호텔     5  저렴한 가격에 굉장히 편하게 묵고 가요 직원분들도 굉장히 친절하십니다 게다가 룸 업...   \n",
       "4  베니키아 테크노밸리호텔     5  매번 청결 친절 등 전체적으로 만족스러운 호텔이예요 조식도 심플하지만 알찬 구성이라...   \n",
       "\n",
       "         date   price              address district  length  \\\n",
       "0  2024.02.13  95,000  대전광역시 유성구 테크노중앙로 57      유성구     140   \n",
       "1  2024.08.17  95,000  대전광역시 유성구 테크노중앙로 57      유성구     159   \n",
       "2  2024.02.13  95,000  대전광역시 유성구 테크노중앙로 57      유성구     132   \n",
       "3  2024.05.26  95,000  대전광역시 유성구 테크노중앙로 57      유성구     119   \n",
       "4  2024.11.01  95,000  대전광역시 유성구 테크노중앙로 57      유성구      50   \n",
       "\n",
       "                                  review_spell_check  \n",
       "0  좋았어요 정말 생각 이상으로 좋았어요분위기좋고 방배정도 2개 예약했는데 센스있게 잡...  \n",
       "1  아이들이 방학이라 제가 근무하는 대전에 놀러왔는데 제가 머물고 있는 숙소가 너무 덥...  \n",
       "2  정말 괜찮았어요 분위기도 좋고 침대도 좋고 직원분도 친절해요 엘베도 빨라서 편했습니...  \n",
       "3  저렴한 가격에 굉장히 편하게 묵고 가요 직원분들도 굉장히 친절하십니다 게다가 룸 업...  \n",
       "4  매번 청결 친절 등 전체적으로 만족스러운 호텔이예요 조식도 심플하지만 알찬 구성이라...  "
      ]
     },
     "execution_count": 31,
     "metadata": {},
     "output_type": "execute_result"
    }
   ],
   "source": [
    "df.head()"
   ]
  },
  {
   "cell_type": "code",
   "execution_count": 32,
   "metadata": {},
   "outputs": [],
   "source": [
    "df.to_csv(\"./preprocessing_data/combined_yanolja_data_clean.csv\", index=False, encoding='utf-8')"
   ]
  },
  {
   "cell_type": "code",
   "execution_count": null,
   "metadata": {},
   "outputs": [
    {
     "data": {
      "text/html": [
       "<div>\n",
       "<style scoped>\n",
       "    .dataframe tbody tr th:only-of-type {\n",
       "        vertical-align: middle;\n",
       "    }\n",
       "\n",
       "    .dataframe tbody tr th {\n",
       "        vertical-align: top;\n",
       "    }\n",
       "\n",
       "    .dataframe thead th {\n",
       "        text-align: right;\n",
       "    }\n",
       "</style>\n",
       "<table border=\"1\" class=\"dataframe\">\n",
       "  <thead>\n",
       "    <tr style=\"text-align: right;\">\n",
       "      <th></th>\n",
       "      <th>review</th>\n",
       "      <th>review_spell_check</th>\n",
       "    </tr>\n",
       "  </thead>\n",
       "  <tbody>\n",
       "    <tr>\n",
       "      <th>0</th>\n",
       "      <td>좋았어요 정말 생각 이상으로 좋았어요분위기좋고 방배정도 2개 예약했는데 센스있게 잡...</td>\n",
       "      <td>좋았어요 정말 생각 이상으로 좋았어요분위기좋고 방배정도 2개 예약했는데 센스있게 잡...</td>\n",
       "    </tr>\n",
       "    <tr>\n",
       "      <th>1</th>\n",
       "      <td>아이들이 방학이라 제가 근무하는 대전에 놀러왔는데 제가 머물고 있는 숙소가 너무 덥...</td>\n",
       "      <td>아이들이 방학이라 제가 근무하는 대전에 놀러왔는데 제가 머물고 있는 숙소가 너무 덥...</td>\n",
       "    </tr>\n",
       "    <tr>\n",
       "      <th>2</th>\n",
       "      <td>정말 괜찮았어요 분위기도 좋고 침대도 좋고 직원분도 친절해요 엘베도 빨라서 편했습니...</td>\n",
       "      <td>정말 괜찮았어요 분위기도 좋고 침대도 좋고 직원분도 친절해요 엘베도 빨라서 편했습니...</td>\n",
       "    </tr>\n",
       "    <tr>\n",
       "      <th>3</th>\n",
       "      <td>저렴한 가격에 굉장히 편하게 묵고 가요 직원분들도 굉장히 친절하십니다 게다가 룸 업...</td>\n",
       "      <td>저렴한 가격에 굉장히 편하게 묵고 가요 직원분들도 굉장히 친절하십니다 게다가 룸 업...</td>\n",
       "    </tr>\n",
       "    <tr>\n",
       "      <th>4</th>\n",
       "      <td>매번 청결 친절 등 전체적으로 만족스러운 호텔이예요 조식도 심플하지만 알찬 구성이라...</td>\n",
       "      <td>매번 청결 친절 등 전체적으로 만족스러운 호텔이예요 조식도 심플하지만 알찬 구성이라...</td>\n",
       "    </tr>\n",
       "  </tbody>\n",
       "</table>\n",
       "</div>"
      ],
      "text/plain": [
       "                                              review  \\\n",
       "0  좋았어요 정말 생각 이상으로 좋았어요분위기좋고 방배정도 2개 예약했는데 센스있게 잡...   \n",
       "1  아이들이 방학이라 제가 근무하는 대전에 놀러왔는데 제가 머물고 있는 숙소가 너무 덥...   \n",
       "2  정말 괜찮았어요 분위기도 좋고 침대도 좋고 직원분도 친절해요 엘베도 빨라서 편했습니...   \n",
       "3  저렴한 가격에 굉장히 편하게 묵고 가요 직원분들도 굉장히 친절하십니다 게다가 룸 업...   \n",
       "4  매번 청결 친절 등 전체적으로 만족스러운 호텔이예요 조식도 심플하지만 알찬 구성이라...   \n",
       "\n",
       "                                  review_spell_check  \n",
       "0  좋았어요 정말 생각 이상으로 좋았어요분위기좋고 방배정도 2개 예약했는데 센스있게 잡...  \n",
       "1  아이들이 방학이라 제가 근무하는 대전에 놀러왔는데 제가 머물고 있는 숙소가 너무 덥...  \n",
       "2  정말 괜찮았어요 분위기도 좋고 침대도 좋고 직원분도 친절해요 엘베도 빨라서 편했습니...  \n",
       "3  저렴한 가격에 굉장히 편하게 묵고 가요 직원분들도 굉장히 친절하십니다 게다가 룸 업...  \n",
       "4  매번 청결 친절 등 전체적으로 만족스러운 호텔이예요 조식도 심플하지만 알찬 구성이라...  "
      ]
     },
     "execution_count": 35,
     "metadata": {},
     "output_type": "execute_result"
    }
   ],
   "source": [
    "# 기존 리뷰와 비교\n",
    "df[['review', 'review_spell_check']].head()"
   ]
  }
 ],
 "metadata": {
  "kernelspec": {
   "display_name": "Python 3",
   "language": "python",
   "name": "python3"
  },
  "language_info": {
   "codemirror_mode": {
    "name": "ipython",
    "version": 3
   },
   "file_extension": ".py",
   "mimetype": "text/x-python",
   "name": "python",
   "nbconvert_exporter": "python",
   "pygments_lexer": "ipython3",
   "version": "3.12.6"
  }
 },
 "nbformat": 4,
 "nbformat_minor": 2
}
